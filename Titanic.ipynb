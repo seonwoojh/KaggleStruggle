{
  "nbformat": 4,
  "nbformat_minor": 0,
  "metadata": {
    "colab": {
      "name": "Titanic.ipynb",
      "provenance": [],
      "collapsed_sections": []
    },
    "kernelspec": {
      "name": "python3",
      "display_name": "Python 3.9.5 64-bit"
    },
    "language_info": {
      "name": "python",
      "version": "3.9.5"
    },
    "interpreter": {
      "hash": "cd67c82be72ccdbad7548b19292c44bf3e63ee2f9c974366100e29b010971395"
    }
  },
  "cells": [
    {
      "cell_type": "markdown",
      "metadata": {
        "id": "ENe_hIkQplpV"
      },
      "source": [
        "* survival - 생존유무, target 값. (0 = 사망, 1 = 생존)\n",
        "* pclass - 티켓 클래스. (1 = 1st, 2 = 2nd, 3 = 3rd)\n",
        "* sex - 성별\n",
        "* Age - 나이(세)\n",
        "* sibsp - 함께 탑승한 형제자매, 배우자 수 총합\n",
        "* parch - 함께 탑승한 부모, 자녀 수 총합\n",
        "* ticket - 티켓 넘버\n",
        "* fare - 탑승 요금\n",
        "* cabin - 객실 넘버\n",
        "* bembarked - 탑승 항구"
      ]
    },
    {
      "cell_type": "code",
      "metadata": {
        "id": "zLRp7kE5nr4N"
      },
      "source": [
        "import pandas as pd\n",
        "import numpy as np\n",
        "import matplotlib.pyplot as plt\n",
        "import seaborn as sns\n",
        "import warnings\n",
        "warnings.filterwarnings('ignore')\n",
        "from collections import Counter\n",
        "\n",
        "plt.style.use('seaborn')"
      ],
      "execution_count": 1,
      "outputs": []
    },
    {
      "cell_type": "code",
      "metadata": {
        "colab": {
          "base_uri": "https://localhost:8080/"
        },
        "id": "5o36nXskHoI-",
        "outputId": "bb9021df-ea07-42e4-a49d-23a5629cff87"
      },
      "source": [
        "from google.colab import drive\n",
        "drive.mount('/content/drive')"
      ],
      "execution_count": 2,
      "outputs": [
        {
          "output_type": "stream",
          "text": [
            "Mounted at /content/drive\n"
          ],
          "name": "stdout"
        }
      ]
    },
    {
      "cell_type": "code",
      "metadata": {
        "id": "hBb90efpoRFY"
      },
      "source": [
        "train = pd.read_csv('/content/drive/MyDrive/Kaggle/Data set/titanic/train.csv')\n",
        "test = pd.read_csv('/content/drive/MyDrive/Kaggle/Data set/titanic/test.csv')"
      ],
      "execution_count": 3,
      "outputs": []
    },
    {
      "cell_type": "code",
      "metadata": {
        "id": "Qno7kFLuodGl"
      },
      "source": [
        "submit = pd.read_csv('/content/drive/MyDrive/Kaggle/Data set/titanic/gender_submission.csv')"
      ],
      "execution_count": 4,
      "outputs": []
    },
    {
      "cell_type": "code",
      "metadata": {
        "colab": {
          "base_uri": "https://localhost:8080/",
          "height": 408
        },
        "id": "2-k8i1mOol08",
        "outputId": "e1ff6c1c-91b0-4a72-9ed0-274d3cfaa124"
      },
      "source": [
        "train.head()"
      ],
      "execution_count": 5,
      "outputs": [
        {
          "output_type": "execute_result",
          "data": {
            "text/html": [
              "<div>\n",
              "<style scoped>\n",
              "    .dataframe tbody tr th:only-of-type {\n",
              "        vertical-align: middle;\n",
              "    }\n",
              "\n",
              "    .dataframe tbody tr th {\n",
              "        vertical-align: top;\n",
              "    }\n",
              "\n",
              "    .dataframe thead th {\n",
              "        text-align: right;\n",
              "    }\n",
              "</style>\n",
              "<table border=\"1\" class=\"dataframe\">\n",
              "  <thead>\n",
              "    <tr style=\"text-align: right;\">\n",
              "      <th></th>\n",
              "      <th>PassengerId</th>\n",
              "      <th>Survived</th>\n",
              "      <th>Pclass</th>\n",
              "      <th>Name</th>\n",
              "      <th>Sex</th>\n",
              "      <th>Age</th>\n",
              "      <th>SibSp</th>\n",
              "      <th>Parch</th>\n",
              "      <th>Ticket</th>\n",
              "      <th>Fare</th>\n",
              "      <th>Cabin</th>\n",
              "      <th>Embarked</th>\n",
              "    </tr>\n",
              "  </thead>\n",
              "  <tbody>\n",
              "    <tr>\n",
              "      <th>0</th>\n",
              "      <td>1</td>\n",
              "      <td>0</td>\n",
              "      <td>3</td>\n",
              "      <td>Braund, Mr. Owen Harris</td>\n",
              "      <td>male</td>\n",
              "      <td>22.0</td>\n",
              "      <td>1</td>\n",
              "      <td>0</td>\n",
              "      <td>A/5 21171</td>\n",
              "      <td>7.2500</td>\n",
              "      <td>NaN</td>\n",
              "      <td>S</td>\n",
              "    </tr>\n",
              "    <tr>\n",
              "      <th>1</th>\n",
              "      <td>2</td>\n",
              "      <td>1</td>\n",
              "      <td>1</td>\n",
              "      <td>Cumings, Mrs. John Bradley (Florence Briggs Th...</td>\n",
              "      <td>female</td>\n",
              "      <td>38.0</td>\n",
              "      <td>1</td>\n",
              "      <td>0</td>\n",
              "      <td>PC 17599</td>\n",
              "      <td>71.2833</td>\n",
              "      <td>C85</td>\n",
              "      <td>C</td>\n",
              "    </tr>\n",
              "    <tr>\n",
              "      <th>2</th>\n",
              "      <td>3</td>\n",
              "      <td>1</td>\n",
              "      <td>3</td>\n",
              "      <td>Heikkinen, Miss. Laina</td>\n",
              "      <td>female</td>\n",
              "      <td>26.0</td>\n",
              "      <td>0</td>\n",
              "      <td>0</td>\n",
              "      <td>STON/O2. 3101282</td>\n",
              "      <td>7.9250</td>\n",
              "      <td>NaN</td>\n",
              "      <td>S</td>\n",
              "    </tr>\n",
              "    <tr>\n",
              "      <th>3</th>\n",
              "      <td>4</td>\n",
              "      <td>1</td>\n",
              "      <td>1</td>\n",
              "      <td>Futrelle, Mrs. Jacques Heath (Lily May Peel)</td>\n",
              "      <td>female</td>\n",
              "      <td>35.0</td>\n",
              "      <td>1</td>\n",
              "      <td>0</td>\n",
              "      <td>113803</td>\n",
              "      <td>53.1000</td>\n",
              "      <td>C123</td>\n",
              "      <td>S</td>\n",
              "    </tr>\n",
              "    <tr>\n",
              "      <th>4</th>\n",
              "      <td>5</td>\n",
              "      <td>0</td>\n",
              "      <td>3</td>\n",
              "      <td>Allen, Mr. William Henry</td>\n",
              "      <td>male</td>\n",
              "      <td>35.0</td>\n",
              "      <td>0</td>\n",
              "      <td>0</td>\n",
              "      <td>373450</td>\n",
              "      <td>8.0500</td>\n",
              "      <td>NaN</td>\n",
              "      <td>S</td>\n",
              "    </tr>\n",
              "  </tbody>\n",
              "</table>\n",
              "</div>"
            ],
            "text/plain": [
              "   PassengerId  Survived  Pclass  ...     Fare Cabin  Embarked\n",
              "0            1         0       3  ...   7.2500   NaN         S\n",
              "1            2         1       1  ...  71.2833   C85         C\n",
              "2            3         1       3  ...   7.9250   NaN         S\n",
              "3            4         1       1  ...  53.1000  C123         S\n",
              "4            5         0       3  ...   8.0500   NaN         S\n",
              "\n",
              "[5 rows x 12 columns]"
            ]
          },
          "metadata": {
            "tags": []
          },
          "execution_count": 5
        }
      ]
    },
    {
      "cell_type": "code",
      "metadata": {
        "colab": {
          "base_uri": "https://localhost:8080/",
          "height": 255
        },
        "id": "u5o5srpfoqZR",
        "outputId": "4d15192e-1def-43bb-ed28-4959cf6901a7"
      },
      "source": [
        "test.head()"
      ],
      "execution_count": 6,
      "outputs": [
        {
          "output_type": "execute_result",
          "data": {
            "text/html": [
              "<div>\n",
              "<style scoped>\n",
              "    .dataframe tbody tr th:only-of-type {\n",
              "        vertical-align: middle;\n",
              "    }\n",
              "\n",
              "    .dataframe tbody tr th {\n",
              "        vertical-align: top;\n",
              "    }\n",
              "\n",
              "    .dataframe thead th {\n",
              "        text-align: right;\n",
              "    }\n",
              "</style>\n",
              "<table border=\"1\" class=\"dataframe\">\n",
              "  <thead>\n",
              "    <tr style=\"text-align: right;\">\n",
              "      <th></th>\n",
              "      <th>PassengerId</th>\n",
              "      <th>Pclass</th>\n",
              "      <th>Name</th>\n",
              "      <th>Sex</th>\n",
              "      <th>Age</th>\n",
              "      <th>SibSp</th>\n",
              "      <th>Parch</th>\n",
              "      <th>Ticket</th>\n",
              "      <th>Fare</th>\n",
              "      <th>Cabin</th>\n",
              "      <th>Embarked</th>\n",
              "    </tr>\n",
              "  </thead>\n",
              "  <tbody>\n",
              "    <tr>\n",
              "      <th>0</th>\n",
              "      <td>892</td>\n",
              "      <td>3</td>\n",
              "      <td>Kelly, Mr. James</td>\n",
              "      <td>male</td>\n",
              "      <td>34.5</td>\n",
              "      <td>0</td>\n",
              "      <td>0</td>\n",
              "      <td>330911</td>\n",
              "      <td>7.8292</td>\n",
              "      <td>NaN</td>\n",
              "      <td>Q</td>\n",
              "    </tr>\n",
              "    <tr>\n",
              "      <th>1</th>\n",
              "      <td>893</td>\n",
              "      <td>3</td>\n",
              "      <td>Wilkes, Mrs. James (Ellen Needs)</td>\n",
              "      <td>female</td>\n",
              "      <td>47.0</td>\n",
              "      <td>1</td>\n",
              "      <td>0</td>\n",
              "      <td>363272</td>\n",
              "      <td>7.0000</td>\n",
              "      <td>NaN</td>\n",
              "      <td>S</td>\n",
              "    </tr>\n",
              "    <tr>\n",
              "      <th>2</th>\n",
              "      <td>894</td>\n",
              "      <td>2</td>\n",
              "      <td>Myles, Mr. Thomas Francis</td>\n",
              "      <td>male</td>\n",
              "      <td>62.0</td>\n",
              "      <td>0</td>\n",
              "      <td>0</td>\n",
              "      <td>240276</td>\n",
              "      <td>9.6875</td>\n",
              "      <td>NaN</td>\n",
              "      <td>Q</td>\n",
              "    </tr>\n",
              "    <tr>\n",
              "      <th>3</th>\n",
              "      <td>895</td>\n",
              "      <td>3</td>\n",
              "      <td>Wirz, Mr. Albert</td>\n",
              "      <td>male</td>\n",
              "      <td>27.0</td>\n",
              "      <td>0</td>\n",
              "      <td>0</td>\n",
              "      <td>315154</td>\n",
              "      <td>8.6625</td>\n",
              "      <td>NaN</td>\n",
              "      <td>S</td>\n",
              "    </tr>\n",
              "    <tr>\n",
              "      <th>4</th>\n",
              "      <td>896</td>\n",
              "      <td>3</td>\n",
              "      <td>Hirvonen, Mrs. Alexander (Helga E Lindqvist)</td>\n",
              "      <td>female</td>\n",
              "      <td>22.0</td>\n",
              "      <td>1</td>\n",
              "      <td>1</td>\n",
              "      <td>3101298</td>\n",
              "      <td>12.2875</td>\n",
              "      <td>NaN</td>\n",
              "      <td>S</td>\n",
              "    </tr>\n",
              "  </tbody>\n",
              "</table>\n",
              "</div>"
            ],
            "text/plain": [
              "   PassengerId  Pclass  ... Cabin Embarked\n",
              "0          892       3  ...   NaN        Q\n",
              "1          893       3  ...   NaN        S\n",
              "2          894       2  ...   NaN        Q\n",
              "3          895       3  ...   NaN        S\n",
              "4          896       3  ...   NaN        S\n",
              "\n",
              "[5 rows x 11 columns]"
            ]
          },
          "metadata": {
            "tags": []
          },
          "execution_count": 6
        }
      ]
    },
    {
      "cell_type": "code",
      "metadata": {
        "colab": {
          "base_uri": "https://localhost:8080/"
        },
        "id": "GLv_CUH8o2Yn",
        "outputId": "47c143a1-e2d9-4dfb-c68e-3a0931f0f9ec"
      },
      "source": [
        "train.info()"
      ],
      "execution_count": 7,
      "outputs": [
        {
          "output_type": "stream",
          "text": [
            "<class 'pandas.core.frame.DataFrame'>\n",
            "RangeIndex: 891 entries, 0 to 890\n",
            "Data columns (total 12 columns):\n",
            " #   Column       Non-Null Count  Dtype  \n",
            "---  ------       --------------  -----  \n",
            " 0   PassengerId  891 non-null    int64  \n",
            " 1   Survived     891 non-null    int64  \n",
            " 2   Pclass       891 non-null    int64  \n",
            " 3   Name         891 non-null    object \n",
            " 4   Sex          891 non-null    object \n",
            " 5   Age          714 non-null    float64\n",
            " 6   SibSp        891 non-null    int64  \n",
            " 7   Parch        891 non-null    int64  \n",
            " 8   Ticket       891 non-null    object \n",
            " 9   Fare         891 non-null    float64\n",
            " 10  Cabin        204 non-null    object \n",
            " 11  Embarked     889 non-null    object \n",
            "dtypes: float64(2), int64(5), object(5)\n",
            "memory usage: 83.7+ KB\n"
          ],
          "name": "stdout"
        }
      ]
    },
    {
      "cell_type": "code",
      "metadata": {
        "colab": {
          "base_uri": "https://localhost:8080/"
        },
        "id": "mD4_j7Elp0Cs",
        "outputId": "a0213956-69e9-4f15-c77c-8944b9ef8dca"
      },
      "source": [
        "# 결측치 확인\n",
        "print('Train data의 결측치\\n\\n', train.isnull().sum())\n",
        "print('Test data의 결측치\\n\\n', test.isnull().sum())"
      ],
      "execution_count": 8,
      "outputs": [
        {
          "output_type": "stream",
          "text": [
            "Train data의 결측치\n",
            "\n",
            " PassengerId      0\n",
            "Survived         0\n",
            "Pclass           0\n",
            "Name             0\n",
            "Sex              0\n",
            "Age            177\n",
            "SibSp            0\n",
            "Parch            0\n",
            "Ticket           0\n",
            "Fare             0\n",
            "Cabin          687\n",
            "Embarked         2\n",
            "dtype: int64\n",
            "Test data의 결측치\n",
            "\n",
            " PassengerId      0\n",
            "Pclass           0\n",
            "Name             0\n",
            "Sex              0\n",
            "Age             86\n",
            "SibSp            0\n",
            "Parch            0\n",
            "Ticket           0\n",
            "Fare             1\n",
            "Cabin          327\n",
            "Embarked         0\n",
            "dtype: int64\n"
          ],
          "name": "stdout"
        }
      ]
    },
    {
      "cell_type": "markdown",
      "metadata": {
        "id": "P-QhM8JUHcu6"
      },
      "source": [
        "# 결측치 처리"
      ]
    },
    {
      "cell_type": "code",
      "metadata": {
        "colab": {
          "base_uri": "https://localhost:8080/",
          "height": 779
        },
        "id": "8oSTodvwHcu7",
        "outputId": "a3786474-f00b-49a7-81e5-0bd6ced3705e"
      },
      "source": [
        "train[train['Age'].isna()]"
      ],
      "execution_count": 9,
      "outputs": [
        {
          "output_type": "execute_result",
          "data": {
            "text/html": [
              "<div>\n",
              "<style scoped>\n",
              "    .dataframe tbody tr th:only-of-type {\n",
              "        vertical-align: middle;\n",
              "    }\n",
              "\n",
              "    .dataframe tbody tr th {\n",
              "        vertical-align: top;\n",
              "    }\n",
              "\n",
              "    .dataframe thead th {\n",
              "        text-align: right;\n",
              "    }\n",
              "</style>\n",
              "<table border=\"1\" class=\"dataframe\">\n",
              "  <thead>\n",
              "    <tr style=\"text-align: right;\">\n",
              "      <th></th>\n",
              "      <th>PassengerId</th>\n",
              "      <th>Survived</th>\n",
              "      <th>Pclass</th>\n",
              "      <th>Name</th>\n",
              "      <th>Sex</th>\n",
              "      <th>Age</th>\n",
              "      <th>SibSp</th>\n",
              "      <th>Parch</th>\n",
              "      <th>Ticket</th>\n",
              "      <th>Fare</th>\n",
              "      <th>Cabin</th>\n",
              "      <th>Embarked</th>\n",
              "    </tr>\n",
              "  </thead>\n",
              "  <tbody>\n",
              "    <tr>\n",
              "      <th>5</th>\n",
              "      <td>6</td>\n",
              "      <td>0</td>\n",
              "      <td>3</td>\n",
              "      <td>Moran, Mr. James</td>\n",
              "      <td>male</td>\n",
              "      <td>NaN</td>\n",
              "      <td>0</td>\n",
              "      <td>0</td>\n",
              "      <td>330877</td>\n",
              "      <td>8.4583</td>\n",
              "      <td>NaN</td>\n",
              "      <td>Q</td>\n",
              "    </tr>\n",
              "    <tr>\n",
              "      <th>17</th>\n",
              "      <td>18</td>\n",
              "      <td>1</td>\n",
              "      <td>2</td>\n",
              "      <td>Williams, Mr. Charles Eugene</td>\n",
              "      <td>male</td>\n",
              "      <td>NaN</td>\n",
              "      <td>0</td>\n",
              "      <td>0</td>\n",
              "      <td>244373</td>\n",
              "      <td>13.0000</td>\n",
              "      <td>NaN</td>\n",
              "      <td>S</td>\n",
              "    </tr>\n",
              "    <tr>\n",
              "      <th>19</th>\n",
              "      <td>20</td>\n",
              "      <td>1</td>\n",
              "      <td>3</td>\n",
              "      <td>Masselmani, Mrs. Fatima</td>\n",
              "      <td>female</td>\n",
              "      <td>NaN</td>\n",
              "      <td>0</td>\n",
              "      <td>0</td>\n",
              "      <td>2649</td>\n",
              "      <td>7.2250</td>\n",
              "      <td>NaN</td>\n",
              "      <td>C</td>\n",
              "    </tr>\n",
              "    <tr>\n",
              "      <th>26</th>\n",
              "      <td>27</td>\n",
              "      <td>0</td>\n",
              "      <td>3</td>\n",
              "      <td>Emir, Mr. Farred Chehab</td>\n",
              "      <td>male</td>\n",
              "      <td>NaN</td>\n",
              "      <td>0</td>\n",
              "      <td>0</td>\n",
              "      <td>2631</td>\n",
              "      <td>7.2250</td>\n",
              "      <td>NaN</td>\n",
              "      <td>C</td>\n",
              "    </tr>\n",
              "    <tr>\n",
              "      <th>28</th>\n",
              "      <td>29</td>\n",
              "      <td>1</td>\n",
              "      <td>3</td>\n",
              "      <td>O'Dwyer, Miss. Ellen \"Nellie\"</td>\n",
              "      <td>female</td>\n",
              "      <td>NaN</td>\n",
              "      <td>0</td>\n",
              "      <td>0</td>\n",
              "      <td>330959</td>\n",
              "      <td>7.8792</td>\n",
              "      <td>NaN</td>\n",
              "      <td>Q</td>\n",
              "    </tr>\n",
              "    <tr>\n",
              "      <th>...</th>\n",
              "      <td>...</td>\n",
              "      <td>...</td>\n",
              "      <td>...</td>\n",
              "      <td>...</td>\n",
              "      <td>...</td>\n",
              "      <td>...</td>\n",
              "      <td>...</td>\n",
              "      <td>...</td>\n",
              "      <td>...</td>\n",
              "      <td>...</td>\n",
              "      <td>...</td>\n",
              "      <td>...</td>\n",
              "    </tr>\n",
              "    <tr>\n",
              "      <th>859</th>\n",
              "      <td>860</td>\n",
              "      <td>0</td>\n",
              "      <td>3</td>\n",
              "      <td>Razi, Mr. Raihed</td>\n",
              "      <td>male</td>\n",
              "      <td>NaN</td>\n",
              "      <td>0</td>\n",
              "      <td>0</td>\n",
              "      <td>2629</td>\n",
              "      <td>7.2292</td>\n",
              "      <td>NaN</td>\n",
              "      <td>C</td>\n",
              "    </tr>\n",
              "    <tr>\n",
              "      <th>863</th>\n",
              "      <td>864</td>\n",
              "      <td>0</td>\n",
              "      <td>3</td>\n",
              "      <td>Sage, Miss. Dorothy Edith \"Dolly\"</td>\n",
              "      <td>female</td>\n",
              "      <td>NaN</td>\n",
              "      <td>8</td>\n",
              "      <td>2</td>\n",
              "      <td>CA. 2343</td>\n",
              "      <td>69.5500</td>\n",
              "      <td>NaN</td>\n",
              "      <td>S</td>\n",
              "    </tr>\n",
              "    <tr>\n",
              "      <th>868</th>\n",
              "      <td>869</td>\n",
              "      <td>0</td>\n",
              "      <td>3</td>\n",
              "      <td>van Melkebeke, Mr. Philemon</td>\n",
              "      <td>male</td>\n",
              "      <td>NaN</td>\n",
              "      <td>0</td>\n",
              "      <td>0</td>\n",
              "      <td>345777</td>\n",
              "      <td>9.5000</td>\n",
              "      <td>NaN</td>\n",
              "      <td>S</td>\n",
              "    </tr>\n",
              "    <tr>\n",
              "      <th>878</th>\n",
              "      <td>879</td>\n",
              "      <td>0</td>\n",
              "      <td>3</td>\n",
              "      <td>Laleff, Mr. Kristo</td>\n",
              "      <td>male</td>\n",
              "      <td>NaN</td>\n",
              "      <td>0</td>\n",
              "      <td>0</td>\n",
              "      <td>349217</td>\n",
              "      <td>7.8958</td>\n",
              "      <td>NaN</td>\n",
              "      <td>S</td>\n",
              "    </tr>\n",
              "    <tr>\n",
              "      <th>888</th>\n",
              "      <td>889</td>\n",
              "      <td>0</td>\n",
              "      <td>3</td>\n",
              "      <td>Johnston, Miss. Catherine Helen \"Carrie\"</td>\n",
              "      <td>female</td>\n",
              "      <td>NaN</td>\n",
              "      <td>1</td>\n",
              "      <td>2</td>\n",
              "      <td>W./C. 6607</td>\n",
              "      <td>23.4500</td>\n",
              "      <td>NaN</td>\n",
              "      <td>S</td>\n",
              "    </tr>\n",
              "  </tbody>\n",
              "</table>\n",
              "<p>177 rows × 12 columns</p>\n",
              "</div>"
            ],
            "text/plain": [
              "     PassengerId  Survived  Pclass  ...     Fare Cabin  Embarked\n",
              "5              6         0       3  ...   8.4583   NaN         Q\n",
              "17            18         1       2  ...  13.0000   NaN         S\n",
              "19            20         1       3  ...   7.2250   NaN         C\n",
              "26            27         0       3  ...   7.2250   NaN         C\n",
              "28            29         1       3  ...   7.8792   NaN         Q\n",
              "..           ...       ...     ...  ...      ...   ...       ...\n",
              "859          860         0       3  ...   7.2292   NaN         C\n",
              "863          864         0       3  ...  69.5500   NaN         S\n",
              "868          869         0       3  ...   9.5000   NaN         S\n",
              "878          879         0       3  ...   7.8958   NaN         S\n",
              "888          889         0       3  ...  23.4500   NaN         S\n",
              "\n",
              "[177 rows x 12 columns]"
            ]
          },
          "metadata": {
            "tags": []
          },
          "execution_count": 9
        }
      ]
    },
    {
      "cell_type": "code",
      "metadata": {
        "id": "-GXugDHXHcu8"
      },
      "source": [
        "train['Age'].replace(np.nan, train['Age'].mean(), inplace=True)\n",
        "test['Age'].replace(np.nan, test['Age'].mean(), inplace=True)"
      ],
      "execution_count": 10,
      "outputs": []
    },
    {
      "cell_type": "code",
      "metadata": {
        "id": "aSrkoag0Hcu8"
      },
      "source": [
        "train.dropna(subset= ['Embarked'], how= 'any',axis=0 ,inplace=True)"
      ],
      "execution_count": 11,
      "outputs": []
    },
    {
      "cell_type": "code",
      "metadata": {
        "id": "GZ42SAPGHcu8"
      },
      "source": [
        "train['Cabin'].replace(np.nan, \"N\", inplace=True)\n",
        "test['Cabin'].replace(np.nan, \"N\", inplace=True)"
      ],
      "execution_count": 12,
      "outputs": []
    },
    {
      "cell_type": "code",
      "metadata": {
        "id": "uue1hnm1Hcu9"
      },
      "source": [
        "# 앞 대문자 1문자만 따오기\n",
        "train['Cabin'] = train['Cabin'].str[0]\n",
        "test['Cabin'] = test['Cabin'].str[0]"
      ],
      "execution_count": 13,
      "outputs": []
    },
    {
      "cell_type": "code",
      "metadata": {
        "colab": {
          "base_uri": "https://localhost:8080/"
        },
        "id": "bVyEWL2ZHcu9",
        "outputId": "bd8af12b-a96f-47c3-ad5c-4b08c9d54b93"
      },
      "source": [
        "print(train.describe())\n",
        "print(test.describe())"
      ],
      "execution_count": 14,
      "outputs": [
        {
          "output_type": "stream",
          "text": [
            "       PassengerId    Survived      Pclass  ...       SibSp       Parch        Fare\n",
            "count   889.000000  889.000000  889.000000  ...  889.000000  889.000000  889.000000\n",
            "mean    446.000000    0.382452    2.311586  ...    0.524184    0.382452   32.096681\n",
            "std     256.998173    0.486260    0.834700  ...    1.103705    0.806761   49.697504\n",
            "min       1.000000    0.000000    1.000000  ...    0.000000    0.000000    0.000000\n",
            "25%     224.000000    0.000000    2.000000  ...    0.000000    0.000000    7.895800\n",
            "50%     446.000000    0.000000    3.000000  ...    0.000000    0.000000   14.454200\n",
            "75%     668.000000    1.000000    3.000000  ...    1.000000    0.000000   31.000000\n",
            "max     891.000000    1.000000    3.000000  ...    8.000000    6.000000  512.329200\n",
            "\n",
            "[8 rows x 7 columns]\n",
            "       PassengerId      Pclass         Age       SibSp       Parch        Fare\n",
            "count   418.000000  418.000000  418.000000  418.000000  418.000000  417.000000\n",
            "mean   1100.500000    2.265550   30.272590    0.447368    0.392344   35.627188\n",
            "std     120.810458    0.841838   12.634534    0.896760    0.981429   55.907576\n",
            "min     892.000000    1.000000    0.170000    0.000000    0.000000    0.000000\n",
            "25%     996.250000    1.000000   23.000000    0.000000    0.000000    7.895800\n",
            "50%    1100.500000    3.000000   30.272590    0.000000    0.000000   14.454200\n",
            "75%    1204.750000    3.000000   35.750000    1.000000    0.000000   31.500000\n",
            "max    1309.000000    3.000000   76.000000    8.000000    9.000000  512.329200\n"
          ],
          "name": "stdout"
        }
      ]
    },
    {
      "cell_type": "markdown",
      "metadata": {
        "id": "8hBh7IBOJtdT"
      },
      "source": [
        "# 이상치"
      ]
    },
    {
      "cell_type": "code",
      "metadata": {
        "id": "hb7LauBkJvWv"
      },
      "source": [
        "# detect_outlier 함수 정의 \n",
        "\n",
        "def detect_outlier(df, n, features):\n",
        "  outlier_indices = []\n",
        "\n",
        "  # iterate over features(columns)\n",
        "  for col in features:\n",
        "    # 1st quartile (25%)\n",
        "    Q1 = np.percentile(df[col], 25)\n",
        "    # 3rd quartile (75%)\n",
        "    Q3 = np.percentile(df[col], 75)\n",
        "    # Interquartile range (IQR)\n",
        "    IQR = Q3 - Q1\n",
        "\n",
        "    # outlier step\n",
        "    outlier_step = 1.5 * IQR\n",
        "\n",
        "    outlier_list_col = df[(df[col] < Q1 - outlier_step) | (df[col] > Q3 + outlier_step)].index\n",
        "\n",
        "    outlier_indices.extend(outlier_list_col)\n",
        "\n",
        "    \n",
        "  outlier_indices = Counter(outlier_indices)\n",
        "  multiple_outliers = list( k for k, v in outlier_indices.items() if v > n )\n",
        "\n",
        "  return multiple_outliers\n",
        "\n",
        "# 이상치 제거하기\n",
        "Outliers_to_drop = detect_outlier(train, 2, [\"Age\",\"SibSp\",\"Parch\",\"Fare\"])"
      ],
      "execution_count": 15,
      "outputs": []
    },
    {
      "cell_type": "code",
      "metadata": {
        "colab": {
          "base_uri": "https://localhost:8080/",
          "height": 1000
        },
        "id": "HtQx_OQFWJ5s",
        "outputId": "85dc0224-09fe-4085-e4c0-70f49ffb7e40"
      },
      "source": [
        "# 이상치가 포함된 행 확인하기\n",
        "\n",
        "train.loc[Outliers_to_drop]"
      ],
      "execution_count": 16,
      "outputs": [
        {
          "output_type": "execute_result",
          "data": {
            "text/html": [
              "<div>\n",
              "<style scoped>\n",
              "    .dataframe tbody tr th:only-of-type {\n",
              "        vertical-align: middle;\n",
              "    }\n",
              "\n",
              "    .dataframe tbody tr th {\n",
              "        vertical-align: top;\n",
              "    }\n",
              "\n",
              "    .dataframe thead th {\n",
              "        text-align: right;\n",
              "    }\n",
              "</style>\n",
              "<table border=\"1\" class=\"dataframe\">\n",
              "  <thead>\n",
              "    <tr style=\"text-align: right;\">\n",
              "      <th></th>\n",
              "      <th>PassengerId</th>\n",
              "      <th>Survived</th>\n",
              "      <th>Pclass</th>\n",
              "      <th>Name</th>\n",
              "      <th>Sex</th>\n",
              "      <th>Age</th>\n",
              "      <th>SibSp</th>\n",
              "      <th>Parch</th>\n",
              "      <th>Ticket</th>\n",
              "      <th>Fare</th>\n",
              "      <th>Cabin</th>\n",
              "      <th>Embarked</th>\n",
              "    </tr>\n",
              "  </thead>\n",
              "  <tbody>\n",
              "    <tr>\n",
              "      <th>7</th>\n",
              "      <td>8</td>\n",
              "      <td>0</td>\n",
              "      <td>3</td>\n",
              "      <td>Palsson, Master. Gosta Leonard</td>\n",
              "      <td>male</td>\n",
              "      <td>2.000000</td>\n",
              "      <td>3</td>\n",
              "      <td>1</td>\n",
              "      <td>349909</td>\n",
              "      <td>21.0750</td>\n",
              "      <td>N</td>\n",
              "      <td>S</td>\n",
              "    </tr>\n",
              "    <tr>\n",
              "      <th>16</th>\n",
              "      <td>17</td>\n",
              "      <td>0</td>\n",
              "      <td>3</td>\n",
              "      <td>Rice, Master. Eugene</td>\n",
              "      <td>male</td>\n",
              "      <td>2.000000</td>\n",
              "      <td>4</td>\n",
              "      <td>1</td>\n",
              "      <td>382652</td>\n",
              "      <td>29.1250</td>\n",
              "      <td>N</td>\n",
              "      <td>Q</td>\n",
              "    </tr>\n",
              "    <tr>\n",
              "      <th>119</th>\n",
              "      <td>120</td>\n",
              "      <td>0</td>\n",
              "      <td>3</td>\n",
              "      <td>Andersson, Miss. Ellis Anna Maria</td>\n",
              "      <td>female</td>\n",
              "      <td>2.000000</td>\n",
              "      <td>4</td>\n",
              "      <td>2</td>\n",
              "      <td>347082</td>\n",
              "      <td>31.2750</td>\n",
              "      <td>N</td>\n",
              "      <td>S</td>\n",
              "    </tr>\n",
              "    <tr>\n",
              "      <th>164</th>\n",
              "      <td>165</td>\n",
              "      <td>0</td>\n",
              "      <td>3</td>\n",
              "      <td>Panula, Master. Eino Viljami</td>\n",
              "      <td>male</td>\n",
              "      <td>1.000000</td>\n",
              "      <td>4</td>\n",
              "      <td>1</td>\n",
              "      <td>3101295</td>\n",
              "      <td>39.6875</td>\n",
              "      <td>N</td>\n",
              "      <td>S</td>\n",
              "    </tr>\n",
              "    <tr>\n",
              "      <th>268</th>\n",
              "      <td>269</td>\n",
              "      <td>1</td>\n",
              "      <td>1</td>\n",
              "      <td>Graham, Mrs. William Thompson (Edith Junkins)</td>\n",
              "      <td>female</td>\n",
              "      <td>58.000000</td>\n",
              "      <td>0</td>\n",
              "      <td>1</td>\n",
              "      <td>PC 17582</td>\n",
              "      <td>153.4625</td>\n",
              "      <td>C</td>\n",
              "      <td>S</td>\n",
              "    </tr>\n",
              "    <tr>\n",
              "      <th>297</th>\n",
              "      <td>298</td>\n",
              "      <td>0</td>\n",
              "      <td>1</td>\n",
              "      <td>Allison, Miss. Helen Loraine</td>\n",
              "      <td>female</td>\n",
              "      <td>2.000000</td>\n",
              "      <td>1</td>\n",
              "      <td>2</td>\n",
              "      <td>113781</td>\n",
              "      <td>151.5500</td>\n",
              "      <td>C</td>\n",
              "      <td>S</td>\n",
              "    </tr>\n",
              "    <tr>\n",
              "      <th>305</th>\n",
              "      <td>306</td>\n",
              "      <td>1</td>\n",
              "      <td>1</td>\n",
              "      <td>Allison, Master. Hudson Trevor</td>\n",
              "      <td>male</td>\n",
              "      <td>0.920000</td>\n",
              "      <td>1</td>\n",
              "      <td>2</td>\n",
              "      <td>113781</td>\n",
              "      <td>151.5500</td>\n",
              "      <td>C</td>\n",
              "      <td>S</td>\n",
              "    </tr>\n",
              "    <tr>\n",
              "      <th>386</th>\n",
              "      <td>387</td>\n",
              "      <td>0</td>\n",
              "      <td>3</td>\n",
              "      <td>Goodwin, Master. Sidney Leonard</td>\n",
              "      <td>male</td>\n",
              "      <td>1.000000</td>\n",
              "      <td>5</td>\n",
              "      <td>2</td>\n",
              "      <td>CA 2144</td>\n",
              "      <td>46.9000</td>\n",
              "      <td>N</td>\n",
              "      <td>S</td>\n",
              "    </tr>\n",
              "    <tr>\n",
              "      <th>438</th>\n",
              "      <td>439</td>\n",
              "      <td>0</td>\n",
              "      <td>1</td>\n",
              "      <td>Fortune, Mr. Mark</td>\n",
              "      <td>male</td>\n",
              "      <td>64.000000</td>\n",
              "      <td>1</td>\n",
              "      <td>4</td>\n",
              "      <td>19950</td>\n",
              "      <td>263.0000</td>\n",
              "      <td>C</td>\n",
              "      <td>S</td>\n",
              "    </tr>\n",
              "    <tr>\n",
              "      <th>587</th>\n",
              "      <td>588</td>\n",
              "      <td>1</td>\n",
              "      <td>1</td>\n",
              "      <td>Frolicher-Stehli, Mr. Maxmillian</td>\n",
              "      <td>male</td>\n",
              "      <td>60.000000</td>\n",
              "      <td>1</td>\n",
              "      <td>1</td>\n",
              "      <td>13567</td>\n",
              "      <td>79.2000</td>\n",
              "      <td>B</td>\n",
              "      <td>C</td>\n",
              "    </tr>\n",
              "    <tr>\n",
              "      <th>642</th>\n",
              "      <td>643</td>\n",
              "      <td>0</td>\n",
              "      <td>3</td>\n",
              "      <td>Skoog, Miss. Margit Elizabeth</td>\n",
              "      <td>female</td>\n",
              "      <td>2.000000</td>\n",
              "      <td>3</td>\n",
              "      <td>2</td>\n",
              "      <td>347088</td>\n",
              "      <td>27.9000</td>\n",
              "      <td>N</td>\n",
              "      <td>S</td>\n",
              "    </tr>\n",
              "    <tr>\n",
              "      <th>659</th>\n",
              "      <td>660</td>\n",
              "      <td>0</td>\n",
              "      <td>1</td>\n",
              "      <td>Newell, Mr. Arthur Webster</td>\n",
              "      <td>male</td>\n",
              "      <td>58.000000</td>\n",
              "      <td>0</td>\n",
              "      <td>2</td>\n",
              "      <td>35273</td>\n",
              "      <td>113.2750</td>\n",
              "      <td>D</td>\n",
              "      <td>C</td>\n",
              "    </tr>\n",
              "    <tr>\n",
              "      <th>745</th>\n",
              "      <td>746</td>\n",
              "      <td>0</td>\n",
              "      <td>1</td>\n",
              "      <td>Crosby, Capt. Edward Gifford</td>\n",
              "      <td>male</td>\n",
              "      <td>70.000000</td>\n",
              "      <td>1</td>\n",
              "      <td>1</td>\n",
              "      <td>WE/P 5735</td>\n",
              "      <td>71.0000</td>\n",
              "      <td>B</td>\n",
              "      <td>S</td>\n",
              "    </tr>\n",
              "    <tr>\n",
              "      <th>824</th>\n",
              "      <td>825</td>\n",
              "      <td>0</td>\n",
              "      <td>3</td>\n",
              "      <td>Panula, Master. Urho Abraham</td>\n",
              "      <td>male</td>\n",
              "      <td>2.000000</td>\n",
              "      <td>4</td>\n",
              "      <td>1</td>\n",
              "      <td>3101295</td>\n",
              "      <td>39.6875</td>\n",
              "      <td>N</td>\n",
              "      <td>S</td>\n",
              "    </tr>\n",
              "    <tr>\n",
              "      <th>879</th>\n",
              "      <td>880</td>\n",
              "      <td>1</td>\n",
              "      <td>1</td>\n",
              "      <td>Potter, Mrs. Thomas Jr (Lily Alexenia Wilson)</td>\n",
              "      <td>female</td>\n",
              "      <td>56.000000</td>\n",
              "      <td>0</td>\n",
              "      <td>1</td>\n",
              "      <td>11767</td>\n",
              "      <td>83.1583</td>\n",
              "      <td>C</td>\n",
              "      <td>C</td>\n",
              "    </tr>\n",
              "    <tr>\n",
              "      <th>27</th>\n",
              "      <td>28</td>\n",
              "      <td>0</td>\n",
              "      <td>1</td>\n",
              "      <td>Fortune, Mr. Charles Alexander</td>\n",
              "      <td>male</td>\n",
              "      <td>19.000000</td>\n",
              "      <td>3</td>\n",
              "      <td>2</td>\n",
              "      <td>19950</td>\n",
              "      <td>263.0000</td>\n",
              "      <td>C</td>\n",
              "      <td>S</td>\n",
              "    </tr>\n",
              "    <tr>\n",
              "      <th>88</th>\n",
              "      <td>89</td>\n",
              "      <td>1</td>\n",
              "      <td>1</td>\n",
              "      <td>Fortune, Miss. Mabel Helen</td>\n",
              "      <td>female</td>\n",
              "      <td>23.000000</td>\n",
              "      <td>3</td>\n",
              "      <td>2</td>\n",
              "      <td>19950</td>\n",
              "      <td>263.0000</td>\n",
              "      <td>C</td>\n",
              "      <td>S</td>\n",
              "    </tr>\n",
              "    <tr>\n",
              "      <th>159</th>\n",
              "      <td>160</td>\n",
              "      <td>0</td>\n",
              "      <td>3</td>\n",
              "      <td>Sage, Master. Thomas Henry</td>\n",
              "      <td>male</td>\n",
              "      <td>29.699118</td>\n",
              "      <td>8</td>\n",
              "      <td>2</td>\n",
              "      <td>CA. 2343</td>\n",
              "      <td>69.5500</td>\n",
              "      <td>N</td>\n",
              "      <td>S</td>\n",
              "    </tr>\n",
              "    <tr>\n",
              "      <th>180</th>\n",
              "      <td>181</td>\n",
              "      <td>0</td>\n",
              "      <td>3</td>\n",
              "      <td>Sage, Miss. Constance Gladys</td>\n",
              "      <td>female</td>\n",
              "      <td>29.699118</td>\n",
              "      <td>8</td>\n",
              "      <td>2</td>\n",
              "      <td>CA. 2343</td>\n",
              "      <td>69.5500</td>\n",
              "      <td>N</td>\n",
              "      <td>S</td>\n",
              "    </tr>\n",
              "    <tr>\n",
              "      <th>201</th>\n",
              "      <td>202</td>\n",
              "      <td>0</td>\n",
              "      <td>3</td>\n",
              "      <td>Sage, Mr. Frederick</td>\n",
              "      <td>male</td>\n",
              "      <td>29.699118</td>\n",
              "      <td>8</td>\n",
              "      <td>2</td>\n",
              "      <td>CA. 2343</td>\n",
              "      <td>69.5500</td>\n",
              "      <td>N</td>\n",
              "      <td>S</td>\n",
              "    </tr>\n",
              "    <tr>\n",
              "      <th>324</th>\n",
              "      <td>325</td>\n",
              "      <td>0</td>\n",
              "      <td>3</td>\n",
              "      <td>Sage, Mr. George John Jr</td>\n",
              "      <td>male</td>\n",
              "      <td>29.699118</td>\n",
              "      <td>8</td>\n",
              "      <td>2</td>\n",
              "      <td>CA. 2343</td>\n",
              "      <td>69.5500</td>\n",
              "      <td>N</td>\n",
              "      <td>S</td>\n",
              "    </tr>\n",
              "    <tr>\n",
              "      <th>341</th>\n",
              "      <td>342</td>\n",
              "      <td>1</td>\n",
              "      <td>1</td>\n",
              "      <td>Fortune, Miss. Alice Elizabeth</td>\n",
              "      <td>female</td>\n",
              "      <td>24.000000</td>\n",
              "      <td>3</td>\n",
              "      <td>2</td>\n",
              "      <td>19950</td>\n",
              "      <td>263.0000</td>\n",
              "      <td>C</td>\n",
              "      <td>S</td>\n",
              "    </tr>\n",
              "    <tr>\n",
              "      <th>792</th>\n",
              "      <td>793</td>\n",
              "      <td>0</td>\n",
              "      <td>3</td>\n",
              "      <td>Sage, Miss. Stella Anna</td>\n",
              "      <td>female</td>\n",
              "      <td>29.699118</td>\n",
              "      <td>8</td>\n",
              "      <td>2</td>\n",
              "      <td>CA. 2343</td>\n",
              "      <td>69.5500</td>\n",
              "      <td>N</td>\n",
              "      <td>S</td>\n",
              "    </tr>\n",
              "    <tr>\n",
              "      <th>846</th>\n",
              "      <td>847</td>\n",
              "      <td>0</td>\n",
              "      <td>3</td>\n",
              "      <td>Sage, Mr. Douglas Bullen</td>\n",
              "      <td>male</td>\n",
              "      <td>29.699118</td>\n",
              "      <td>8</td>\n",
              "      <td>2</td>\n",
              "      <td>CA. 2343</td>\n",
              "      <td>69.5500</td>\n",
              "      <td>N</td>\n",
              "      <td>S</td>\n",
              "    </tr>\n",
              "    <tr>\n",
              "      <th>863</th>\n",
              "      <td>864</td>\n",
              "      <td>0</td>\n",
              "      <td>3</td>\n",
              "      <td>Sage, Miss. Dorothy Edith \"Dolly\"</td>\n",
              "      <td>female</td>\n",
              "      <td>29.699118</td>\n",
              "      <td>8</td>\n",
              "      <td>2</td>\n",
              "      <td>CA. 2343</td>\n",
              "      <td>69.5500</td>\n",
              "      <td>N</td>\n",
              "      <td>S</td>\n",
              "    </tr>\n",
              "  </tbody>\n",
              "</table>\n",
              "</div>"
            ],
            "text/plain": [
              "     PassengerId  Survived  Pclass  ...      Fare Cabin  Embarked\n",
              "7              8         0       3  ...   21.0750     N         S\n",
              "16            17         0       3  ...   29.1250     N         Q\n",
              "119          120         0       3  ...   31.2750     N         S\n",
              "164          165         0       3  ...   39.6875     N         S\n",
              "268          269         1       1  ...  153.4625     C         S\n",
              "297          298         0       1  ...  151.5500     C         S\n",
              "305          306         1       1  ...  151.5500     C         S\n",
              "386          387         0       3  ...   46.9000     N         S\n",
              "438          439         0       1  ...  263.0000     C         S\n",
              "587          588         1       1  ...   79.2000     B         C\n",
              "642          643         0       3  ...   27.9000     N         S\n",
              "659          660         0       1  ...  113.2750     D         C\n",
              "745          746         0       1  ...   71.0000     B         S\n",
              "824          825         0       3  ...   39.6875     N         S\n",
              "879          880         1       1  ...   83.1583     C         C\n",
              "27            28         0       1  ...  263.0000     C         S\n",
              "88            89         1       1  ...  263.0000     C         S\n",
              "159          160         0       3  ...   69.5500     N         S\n",
              "180          181         0       3  ...   69.5500     N         S\n",
              "201          202         0       3  ...   69.5500     N         S\n",
              "324          325         0       3  ...   69.5500     N         S\n",
              "341          342         1       1  ...  263.0000     C         S\n",
              "792          793         0       3  ...   69.5500     N         S\n",
              "846          847         0       3  ...   69.5500     N         S\n",
              "863          864         0       3  ...   69.5500     N         S\n",
              "\n",
              "[25 rows x 12 columns]"
            ]
          },
          "metadata": {
            "tags": []
          },
          "execution_count": 16
        }
      ]
    },
    {
      "cell_type": "code",
      "metadata": {
        "id": "EYFwEtQAWhyR"
      },
      "source": [
        "# 이상치 제거\n",
        "\n",
        "train.drop(Outliers_to_drop, axis=0,inplace=True)"
      ],
      "execution_count": 17,
      "outputs": []
    },
    {
      "cell_type": "markdown",
      "metadata": {
        "id": "k7FZ4tFMHcu9"
      },
      "source": [
        "# 1. EDA"
      ]
    },
    {
      "cell_type": "markdown",
      "metadata": {
        "id": "QmBghsTQHcu-"
      },
      "source": [
        "### 2-1. Pclass\n",
        "  * Pclass는 카테고리이면서 순서가 있는 데이터타입"
      ]
    },
    {
      "cell_type": "code",
      "metadata": {
        "colab": {
          "base_uri": "https://localhost:8080/",
          "height": 173
        },
        "id": "HNORhq-ZHcu-",
        "outputId": "66750c0f-66e3-4664-b015-3fccea293ede"
      },
      "source": [
        "# pclass 그룹 별 데이터 카운트\n",
        "\n",
        "train[[\"Survived\",\"Pclass\"]].groupby(['Pclass']).count()"
      ],
      "execution_count": 18,
      "outputs": [
        {
          "output_type": "execute_result",
          "data": {
            "text/html": [
              "<div>\n",
              "<style scoped>\n",
              "    .dataframe tbody tr th:only-of-type {\n",
              "        vertical-align: middle;\n",
              "    }\n",
              "\n",
              "    .dataframe tbody tr th {\n",
              "        vertical-align: top;\n",
              "    }\n",
              "\n",
              "    .dataframe thead th {\n",
              "        text-align: right;\n",
              "    }\n",
              "</style>\n",
              "<table border=\"1\" class=\"dataframe\">\n",
              "  <thead>\n",
              "    <tr style=\"text-align: right;\">\n",
              "      <th></th>\n",
              "      <th>Survived</th>\n",
              "    </tr>\n",
              "    <tr>\n",
              "      <th>Pclass</th>\n",
              "      <th></th>\n",
              "    </tr>\n",
              "  </thead>\n",
              "  <tbody>\n",
              "    <tr>\n",
              "      <th>1</th>\n",
              "      <td>203</td>\n",
              "    </tr>\n",
              "    <tr>\n",
              "      <th>2</th>\n",
              "      <td>184</td>\n",
              "    </tr>\n",
              "    <tr>\n",
              "      <th>3</th>\n",
              "      <td>477</td>\n",
              "    </tr>\n",
              "  </tbody>\n",
              "</table>\n",
              "</div>"
            ],
            "text/plain": [
              "        Survived\n",
              "Pclass          \n",
              "1            203\n",
              "2            184\n",
              "3            477"
            ]
          },
          "metadata": {
            "tags": []
          },
          "execution_count": 18
        }
      ]
    },
    {
      "cell_type": "code",
      "metadata": {
        "colab": {
          "base_uri": "https://localhost:8080/",
          "height": 173
        },
        "id": "3Xk_bADegbfP",
        "outputId": "73b4e78b-213c-4511-a0e0-d12fecea6265"
      },
      "source": [
        "# pclass 그룹 별 생존자수 합\n",
        "\n",
        "train[['Survived','Pclass']].groupby(['Pclass']).sum()"
      ],
      "execution_count": 19,
      "outputs": [
        {
          "output_type": "execute_result",
          "data": {
            "text/html": [
              "<div>\n",
              "<style scoped>\n",
              "    .dataframe tbody tr th:only-of-type {\n",
              "        vertical-align: middle;\n",
              "    }\n",
              "\n",
              "    .dataframe tbody tr th {\n",
              "        vertical-align: top;\n",
              "    }\n",
              "\n",
              "    .dataframe thead th {\n",
              "        text-align: right;\n",
              "    }\n",
              "</style>\n",
              "<table border=\"1\" class=\"dataframe\">\n",
              "  <thead>\n",
              "    <tr style=\"text-align: right;\">\n",
              "      <th></th>\n",
              "      <th>Survived</th>\n",
              "    </tr>\n",
              "    <tr>\n",
              "      <th>Pclass</th>\n",
              "      <th></th>\n",
              "    </tr>\n",
              "  </thead>\n",
              "  <tbody>\n",
              "    <tr>\n",
              "      <th>1</th>\n",
              "      <td>128</td>\n",
              "    </tr>\n",
              "    <tr>\n",
              "      <th>2</th>\n",
              "      <td>87</td>\n",
              "    </tr>\n",
              "    <tr>\n",
              "      <th>3</th>\n",
              "      <td>119</td>\n",
              "    </tr>\n",
              "  </tbody>\n",
              "</table>\n",
              "</div>"
            ],
            "text/plain": [
              "        Survived\n",
              "Pclass          \n",
              "1            128\n",
              "2             87\n",
              "3            119"
            ]
          },
          "metadata": {
            "tags": []
          },
          "execution_count": 19
        }
      ]
    },
    {
      "cell_type": "code",
      "metadata": {
        "colab": {
          "base_uri": "https://localhost:8080/",
          "height": 204
        },
        "id": "FyqmkWqXgsw7",
        "outputId": "8d817439-7cc5-473f-a719-e15f7f0c0071"
      },
      "source": [
        "# 위와 같은 작업을 crosstab으로 편하게 할 수 있다.\n",
        "\n",
        "pd.crosstab(train['Pclass'], train['Survived'], margins=True)"
      ],
      "execution_count": 20,
      "outputs": [
        {
          "output_type": "execute_result",
          "data": {
            "text/html": [
              "<div>\n",
              "<style scoped>\n",
              "    .dataframe tbody tr th:only-of-type {\n",
              "        vertical-align: middle;\n",
              "    }\n",
              "\n",
              "    .dataframe tbody tr th {\n",
              "        vertical-align: top;\n",
              "    }\n",
              "\n",
              "    .dataframe thead th {\n",
              "        text-align: right;\n",
              "    }\n",
              "</style>\n",
              "<table border=\"1\" class=\"dataframe\">\n",
              "  <thead>\n",
              "    <tr style=\"text-align: right;\">\n",
              "      <th>Survived</th>\n",
              "      <th>0</th>\n",
              "      <th>1</th>\n",
              "      <th>All</th>\n",
              "    </tr>\n",
              "    <tr>\n",
              "      <th>Pclass</th>\n",
              "      <th></th>\n",
              "      <th></th>\n",
              "      <th></th>\n",
              "    </tr>\n",
              "  </thead>\n",
              "  <tbody>\n",
              "    <tr>\n",
              "      <th>1</th>\n",
              "      <td>75</td>\n",
              "      <td>128</td>\n",
              "      <td>203</td>\n",
              "    </tr>\n",
              "    <tr>\n",
              "      <th>2</th>\n",
              "      <td>97</td>\n",
              "      <td>87</td>\n",
              "      <td>184</td>\n",
              "    </tr>\n",
              "    <tr>\n",
              "      <th>3</th>\n",
              "      <td>358</td>\n",
              "      <td>119</td>\n",
              "      <td>477</td>\n",
              "    </tr>\n",
              "    <tr>\n",
              "      <th>All</th>\n",
              "      <td>530</td>\n",
              "      <td>334</td>\n",
              "      <td>864</td>\n",
              "    </tr>\n",
              "  </tbody>\n",
              "</table>\n",
              "</div>"
            ],
            "text/plain": [
              "Survived    0    1  All\n",
              "Pclass                 \n",
              "1          75  128  203\n",
              "2          97   87  184\n",
              "3         358  119  477\n",
              "All       530  334  864"
            ]
          },
          "metadata": {
            "tags": []
          },
          "execution_count": 20
        }
      ]
    },
    {
      "cell_type": "code",
      "metadata": {
        "colab": {
          "base_uri": "https://localhost:8080/",
          "height": 173
        },
        "id": "QjQ1wZqjhAQI",
        "outputId": "5658bd80-ab04-4c0a-f167-fd28939c725a"
      },
      "source": [
        "# mean은 생존률을 구하게 할 수 있다.\n",
        "\n",
        "train[['Pclass','Survived']].groupby('Pclass').mean()"
      ],
      "execution_count": 21,
      "outputs": [
        {
          "output_type": "execute_result",
          "data": {
            "text/html": [
              "<div>\n",
              "<style scoped>\n",
              "    .dataframe tbody tr th:only-of-type {\n",
              "        vertical-align: middle;\n",
              "    }\n",
              "\n",
              "    .dataframe tbody tr th {\n",
              "        vertical-align: top;\n",
              "    }\n",
              "\n",
              "    .dataframe thead th {\n",
              "        text-align: right;\n",
              "    }\n",
              "</style>\n",
              "<table border=\"1\" class=\"dataframe\">\n",
              "  <thead>\n",
              "    <tr style=\"text-align: right;\">\n",
              "      <th></th>\n",
              "      <th>Survived</th>\n",
              "    </tr>\n",
              "    <tr>\n",
              "      <th>Pclass</th>\n",
              "      <th></th>\n",
              "    </tr>\n",
              "  </thead>\n",
              "  <tbody>\n",
              "    <tr>\n",
              "      <th>1</th>\n",
              "      <td>0.630542</td>\n",
              "    </tr>\n",
              "    <tr>\n",
              "      <th>2</th>\n",
              "      <td>0.472826</td>\n",
              "    </tr>\n",
              "    <tr>\n",
              "      <th>3</th>\n",
              "      <td>0.249476</td>\n",
              "    </tr>\n",
              "  </tbody>\n",
              "</table>\n",
              "</div>"
            ],
            "text/plain": [
              "        Survived\n",
              "Pclass          \n",
              "1       0.630542\n",
              "2       0.472826\n",
              "3       0.249476"
            ]
          },
          "metadata": {
            "tags": []
          },
          "execution_count": 21
        }
      ]
    },
    {
      "cell_type": "code",
      "metadata": {
        "colab": {
          "base_uri": "https://localhost:8080/",
          "height": 297
        },
        "id": "im3w-F8tiKgX",
        "outputId": "ecddba73-61fc-49c7-a226-dad73f5b0aaf"
      },
      "source": [
        "train[['Pclass','Survived']].groupby(['Pclass']).mean().plot.bar()\n",
        "plt.xticks(rotation = 360)"
      ],
      "execution_count": 22,
      "outputs": [
        {
          "output_type": "execute_result",
          "data": {
            "text/plain": [
              "(array([0, 1, 2]), <a list of 3 Text major ticklabel objects>)"
            ]
          },
          "metadata": {
            "tags": []
          },
          "execution_count": 22
        },
        {
          "output_type": "display_data",
          "data": {
            "image/png": "[encoded data removed]",
            "text/plain": [
              "<Figure size 432x288 with 1 Axes>"
            ]
          },
          "metadata": {
            "tags": [],
            "needs_background": "light"
          }
        }
      ]
    },
    {
      "cell_type": "markdown",
      "metadata": {
        "id": "0d7e_41Xi06h"
      },
      "source": [
        "-> Pclass가 1일때 즉 티켓의 클래스(1등석, 2등석, 3등석)가 높을수록 생존률이 높다는 것을 알 수 있다."
      ]
    },
    {
      "cell_type": "markdown",
      "metadata": {
        "id": "U_ilAO56jLLx"
      },
      "source": [
        "### 2-2. Sex"
      ]
    },
    {
      "cell_type": "code",
      "metadata": {
        "colab": {
          "base_uri": "https://localhost:8080/",
          "height": 279
        },
        "id": "WgE48xacjCD5",
        "outputId": "6063ddf9-aa24-4bdf-a0de-2ecb13f37eda"
      },
      "source": [
        "# Sex변수의 분포 확인\n",
        "g = sns.countplot(train['Sex'])\n",
        "\n",
        "# 데이터레이블 값 표시를 위한 연산\n",
        "num = train['Sex'].value_counts()\n",
        "for i, val in enumerate(num.index):\n",
        "    g.text(x=i, y=num[i], s=num[i],  horizontalalignment='center',verticalalignment='top')"
      ],
      "execution_count": 23,
      "outputs": [
        {
          "output_type": "display_data",
          "data": {
            "image/png": "[encoded data removed]",
            "text/plain": [
              "<Figure size 432x288 with 1 Axes>"
            ]
          },
          "metadata": {
            "tags": [],
            "needs_background": "light"
          }
        }
      ]
    },
    {
      "cell_type": "code",
      "metadata": {
        "id": "lmkhGVCkjUQT",
        "colab": {
          "base_uri": "https://localhost:8080/",
          "height": 496
        },
        "outputId": "03c5fb47-ef78-4b27-c421-80c4441f50eb"
      },
      "source": [
        "f, ax = plt.subplots(1, 2, figsize=(8,7))\n",
        "\n",
        "train[['Sex','Survived']].groupby(['Sex']).mean().plot.bar(ax=ax[0],\n",
        "                                                           title=\"Survived vs Sex\")\n",
        "\n",
        "plt.title('Sex : Survived vs Dead')\n",
        "sns.countplot(data=train, x='Sex',hue='Survived', ax=ax[1])"
      ],
      "execution_count": 24,
      "outputs": [
        {
          "output_type": "execute_result",
          "data": {
            "text/plain": [
              "<matplotlib.axes._subplots.AxesSubplot at 0x7fa74c6c9cd0>"
            ]
          },
          "metadata": {
            "tags": []
          },
          "execution_count": 24
        },
        {
          "output_type": "display_data",
          "data": {
            "image/png": "[encoded data removed]",
            "text/plain": [
              "<Figure size 576x504 with 2 Axes>"
            ]
          },
          "metadata": {
            "tags": [],
            "needs_background": "light"
          }
        }
      ]
    },
    {
      "cell_type": "markdown",
      "metadata": {
        "id": "AbgTaYXb-Xc6"
      },
      "source": [
        "-> 성별에 따른 생존률에 대한 그래프를 확인해본 결과 여성의 생존률이 남성보다 높았고, Pclass와 마찬가지로 유의한 결과를 보였다."
      ]
    },
    {
      "cell_type": "markdown",
      "metadata": {
        "id": "mfSaTkEc_Ynp"
      },
      "source": [
        "### 2-3 Both Sex and Pclass\n",
        "  * Sex, Pclass 두가지에 관하여 생존이 어떻게 달라지는지 확인해보자."
      ]
    },
    {
      "cell_type": "code",
      "metadata": {
        "colab": {
          "base_uri": "https://localhost:8080/",
          "height": 473
        },
        "id": "Lmlnex4R_dkD",
        "outputId": "173b7853-d84d-4cca-cf6d-b08f19c59900"
      },
      "source": [
        "sns.factorplot('Pclass', 'Survived', hue='Sex',data = train, size=6, aspect=1.5)"
      ],
      "execution_count": 25,
      "outputs": [
        {
          "output_type": "execute_result",
          "data": {
            "text/plain": [
              "<seaborn.axisgrid.FacetGrid at 0x7fa74c038c50>"
            ]
          },
          "metadata": {
            "tags": []
          },
          "execution_count": 25
        },
        {
          "output_type": "display_data",
          "data": {
            "image/png": "[encoded data removed]",
            "text/plain": [
              "<Figure size 714.125x432 with 1 Axes>"
            ]
          },
          "metadata": {
            "tags": [],
            "needs_background": "light"
          }
        }
      ]
    },
    {
      "cell_type": "markdown",
      "metadata": {
        "id": "GQD_S4usAdIg"
      },
      "source": [
        "-> 모든 티켓 클래스에서 여성의 생존확률이 높게 나타났음을 알 수 있다."
      ]
    },
    {
      "cell_type": "markdown",
      "metadata": {
        "id": "QedZ7JIeAvfq"
      },
      "source": [
        "### 2-4 Age"
      ]
    },
    {
      "cell_type": "code",
      "metadata": {
        "id": "_-DevMFcAzRt",
        "colab": {
          "base_uri": "https://localhost:8080/"
        },
        "outputId": "277c0537-63eb-4508-aab9-3870c5b1613f"
      },
      "source": [
        "# Age 변수의 기술통계값 확인\n",
        "round(train['Age'].describe(),2)"
      ],
      "execution_count": 26,
      "outputs": [
        {
          "output_type": "execute_result",
          "data": {
            "text/plain": [
              "count    864.00\n",
              "mean      29.75\n",
              "std       12.56\n",
              "min        0.42\n",
              "25%       22.00\n",
              "50%       29.70\n",
              "75%       35.00\n",
              "max       80.00\n",
              "Name: Age, dtype: float64"
            ]
          },
          "metadata": {
            "tags": []
          },
          "execution_count": 26
        }
      ]
    },
    {
      "cell_type": "markdown",
      "metadata": {
        "id": "JE-mySmLD5vj"
      },
      "source": [
        "-> Age변수의 평균은 29.75, 중앙값은 29.70, 최소값 0.42, 최대값 80"
      ]
    },
    {
      "cell_type": "code",
      "metadata": {
        "colab": {
          "base_uri": "https://localhost:8080/",
          "height": 475
        },
        "id": "hlZHLXSDD4-B",
        "outputId": "186a0518-0643-4a43-d408-597d4f5112ee"
      },
      "source": [
        "f, ax = plt.subplots(2,1, figsize=(8,7))\n",
        "\n",
        "sns.distplot(x=train['Age'], ax=ax[0])\n",
        "ax[0].set_title(\"Distplot of Age\")\n",
        "\n",
        "sns.boxplot(train['Age'],color=\"skyblue\", ax=ax[1])\n",
        "ax[1].set_title('Boxplot of Age')"
      ],
      "execution_count": 27,
      "outputs": [
        {
          "output_type": "execute_result",
          "data": {
            "text/plain": [
              "Text(0.5, 1.0, 'Boxplot of Age')"
            ]
          },
          "metadata": {
            "tags": []
          },
          "execution_count": 27
        },
        {
          "output_type": "display_data",
          "data": {
            "image/png": "[encoded data removed]",
            "text/plain": [
              "<Figure size 576x504 with 2 Axes>"
            ]
          },
          "metadata": {
            "tags": [],
            "needs_background": "light"
          }
        }
      ]
    },
    {
      "cell_type": "markdown",
      "metadata": {
        "id": "Qe99sbtpII2g"
      },
      "source": [
        "-> 연령대는 대체로 20대와 40대 사이가 많고, 30대가 가장 높게 나타난 것을 알 수 있으며 대체로 정규분포를 따른다고 볼 수 있다."
      ]
    },
    {
      "cell_type": "code",
      "metadata": {
        "colab": {
          "base_uri": "https://localhost:8080/",
          "height": 460
        },
        "id": "yiMU1N7KElhj",
        "outputId": "84bb3232-407c-4752-9c88-cab31abd765b"
      },
      "source": [
        "f, ax = plt.subplots(1,1, figsize=(8,7))\n",
        "sns.kdeplot(train[train['Survived'] == 1]['Age'], ax=ax)\n",
        "sns.kdeplot(train[train['Survived'] == 0]['Age'], ax=ax)\n",
        "plt.legend(['Survived == 1','Survived == 0'])"
      ],
      "execution_count": 28,
      "outputs": [
        {
          "output_type": "execute_result",
          "data": {
            "text/plain": [
              "<matplotlib.legend.Legend at 0x7fa743606bd0>"
            ]
          },
          "metadata": {
            "tags": []
          },
          "execution_count": 28
        },
        {
          "output_type": "display_data",
          "data": {
            "image/png": "[encoded data removed]",
            "text/plain": [
              "<Figure size 576x504 with 1 Axes>"
            ]
          },
          "metadata": {
            "tags": [],
            "needs_background": "light"
          }
        }
      ]
    },
    {
      "cell_type": "markdown",
      "metadata": {
        "id": "cMgLlonzHyyY"
      },
      "source": [
        "-> 연령에 따른 생존여부를 확인해본 결과 앞에서 확인한 결과와 마찬가지로 30대에서 생존과 사망 모두 높게 나타났다. 이는 30대의 데이터가 많기 때문으로 판단되고, 어린나이(약 15세 미만) 구간에서 생존률이 상대적으로 높게 나타난 것을 알 수 있다."
      ]
    },
    {
      "cell_type": "code",
      "metadata": {
        "colab": {
          "base_uri": "https://localhost:8080/",
          "height": 475
        },
        "id": "YGAP8SVNI6Xx",
        "outputId": "7e4cce19-42cb-4d91-d467-3447091ee851"
      },
      "source": [
        "# 티켓 클래스에 따른 Age변수의 분포 시각화\n",
        "plt.figure(figsize=(8,7))\n",
        "train['Age'][train['Pclass'] == 1].plot(kind = 'kde')\n",
        "train['Age'][train['Pclass'] == 2].plot(kind = 'kde')\n",
        "train['Age'][train['Pclass'] == 3].plot(kind = 'kde')\n",
        "\n",
        "plt.xlabel('Age')\n",
        "plt.title(\"Age Distribution within Classes\")\n",
        "plt.legend(['1st Class','2nd Class','3rd Class'])"
      ],
      "execution_count": 29,
      "outputs": [
        {
          "output_type": "execute_result",
          "data": {
            "text/plain": [
              "<matplotlib.legend.Legend at 0x7fa743570c90>"
            ]
          },
          "metadata": {
            "tags": []
          },
          "execution_count": 29
        },
        {
          "output_type": "display_data",
          "data": {
            "image/png": "[encoded data removed]",
            "text/plain": [
              "<Figure size 576x504 with 1 Axes>"
            ]
          },
          "metadata": {
            "tags": [],
            "needs_background": "light"
          }
        }
      ]
    },
    {
      "cell_type": "markdown",
      "metadata": {
        "id": "vcl5xxGhPU9F"
      },
      "source": [
        "->"
      ]
    },
    {
      "cell_type": "code",
      "metadata": {
        "colab": {
          "base_uri": "https://localhost:8080/",
          "height": 483
        },
        "id": "EAUxeaAmOw4S",
        "outputId": "80f683c0-1b3b-48dc-f7e0-1fee8aa951c2"
      },
      "source": [
        "# 나이대가 높아질 수록 생존확률이 어떻게 달라지는지 알고 싶어 누적 확률을 활용한 시각화\n",
        "\n",
        "cummulate_survival_ratio = []\n",
        "for i in range(1, 80):\n",
        "  cummulate_survival_ratio.append(train[train['Age'] < i]['Survived'].sum() / len(train[train['Age'] < i]['Survived']))\n",
        "  \n",
        "plt.figure(figsize=(8,7))\n",
        "plt.plot(cummulate_survival_ratio)\n",
        "plt.xlabel('Range Of Age(0~X)')\n",
        "plt.ylabel('Survived rate')\n",
        "plt.title('Survived rate change depending on range of Age', y=1.02)"
      ],
      "execution_count": 30,
      "outputs": [
        {
          "output_type": "execute_result",
          "data": {
            "text/plain": [
              "Text(0.5, 1.02, 'Survived rate change depending on range of Age')"
            ]
          },
          "metadata": {
            "tags": []
          },
          "execution_count": 30
        },
        {
          "output_type": "display_data",
          "data": {
            "image/png": "[encoded data removed]",
            "text/plain": [
              "<Figure size 576x504 with 1 Axes>"
            ]
          },
          "metadata": {
            "tags": [],
            "needs_background": "light"
          }
        }
      ]
    },
    {
      "cell_type": "markdown",
      "metadata": {
        "id": "69jtnNvwSFKr"
      },
      "source": [
        "-> 나이가 어릴수록 생존률이 확실히 높은것을 확인할 수 있었다. 이를 통해 나이도 중요한 피처임을 알 수 있다.\n",
        "\n",
        "* 종합하자면 여자이거나 나이가 어리고, 클래스가 높을 수록 생존 확률이 높은 것을 알 수 있다."
      ]
    },
    {
      "cell_type": "markdown",
      "metadata": {
        "id": "0C2jeIenSaA5"
      },
      "source": [
        "### 2.5 Embarked\n",
        "-> 탑승한 항구를 나타내는 변수"
      ]
    },
    {
      "cell_type": "code",
      "metadata": {
        "colab": {
          "base_uri": "https://localhost:8080/"
        },
        "id": "f2zXGYdpScLt",
        "outputId": "ef85c991-aebf-448b-9d11-b76b3ad034b3"
      },
      "source": [
        "print(\"<Embarked 변수의 개별값> \\n\",train['Embarked'].unique())\n",
        "print(\"\\n<Embarked 변수의 개수> \\n\",train['Embarked'].value_counts())"
      ],
      "execution_count": 31,
      "outputs": [
        {
          "output_type": "stream",
          "text": [
            "<Embarked 변수의 개별값> \n",
            " ['S' 'C' 'Q']\n",
            "\n",
            "<Embarked 변수의 개수> \n",
            " S    623\n",
            "C    165\n",
            "Q     76\n",
            "Name: Embarked, dtype: int64\n"
          ],
          "name": "stdout"
        }
      ]
    },
    {
      "cell_type": "code",
      "metadata": {
        "id": "RyV8rsdPT1KS",
        "colab": {
          "base_uri": "https://localhost:8080/",
          "height": 295
        },
        "outputId": "babee5d3-6371-4216-f266-f8ac2f93db7a"
      },
      "source": [
        "train[['Embarked','Survived']].groupby(['Embarked']).mean().sort_values(by='Survived', ascending=False).plot.bar()"
      ],
      "execution_count": 32,
      "outputs": [
        {
          "output_type": "execute_result",
          "data": {
            "text/plain": [
              "<matplotlib.axes._subplots.AxesSubplot at 0x7fa74347da50>"
            ]
          },
          "metadata": {
            "tags": []
          },
          "execution_count": 32
        },
        {
          "output_type": "display_data",
          "data": {
            "image/png": "[encoded data removed]",
            "text/plain": [
              "<Figure size 432x288 with 1 Axes>"
            ]
          },
          "metadata": {
            "tags": [],
            "needs_background": "light"
          }
        }
      ]
    },
    {
      "cell_type": "markdown",
      "metadata": {
        "id": "D9MfOyX5UV6q"
      },
      "source": [
        "-> 탑승한 항구에 따라 생존률에 큰 차이는 보이지 않았지만 약간의 차이가 있다."
      ]
    },
    {
      "cell_type": "code",
      "metadata": {
        "colab": {
          "base_uri": "https://localhost:8080/",
          "height": 645
        },
        "id": "Cd-f3Gopxlv1",
        "outputId": "78d3f211-d1c9-4d20-c969-f4677c5d1293"
      },
      "source": [
        "f,ax=plt.subplots(2, 2, figsize=(20,15))\n",
        "sns.countplot('Embarked', data=train, ax=ax[0,0])\n",
        "ax[0,0].set_title('(1) No. Of Passengers Boarded')\n",
        "sns.countplot('Embarked', hue='Sex', data=train, ax=ax[0,1])\n",
        "ax[0,1].set_title('(2) Male-Female Split for Embarked')\n",
        "sns.countplot('Embarked', hue='Survived', data=train, ax=ax[1,0])\n",
        "ax[1,0].set_title('(3) Embarked vs Survived')\n",
        "sns.countplot('Embarked', hue='Pclass', data=train, ax=ax[1,1])\n",
        "ax[1,1].set_title('(4) Embarked vs Pclass')\n",
        "plt.subplots_adjust(wspace=0.2, hspace=0.5)\n",
        "plt.show()"
      ],
      "execution_count": 33,
      "outputs": [
        {
          "output_type": "display_data",
          "data": {
            "image/png": "[encoded data removed]",
            "text/plain": [
              "<Figure size 1440x1080 with 4 Axes>"
            ]
          },
          "metadata": {
            "tags": [],
            "needs_background": "light"
          }
        }
      ]
    },
    {
      "cell_type": "markdown",
      "metadata": {
        "id": "gMMKKh-EUgXD"
      },
      "source": [
        "* (1) S에서 가장 많은 사람이 탑승함.\n",
        "* (2) C와 Q는 남녀의 비율이 비슷하고 S는 남자가 더 많음.\n",
        "* (3) 생존확률이 S의 경우 많이 낮음."
      ]
    },
    {
      "cell_type": "markdown",
      "metadata": {
        "id": "s6ZjWk9NVeGo"
      },
      "source": [
        "### 2-6 Family ~ SibSp + Parch\n",
        "\n",
        "* 자녀 수에 해당하는 SibSp와 Parch를 더해 가족 수 라는 새로운 변수 생성.\n"
      ]
    },
    {
      "cell_type": "code",
      "metadata": {
        "id": "SkZJSsRjS4Ut"
      },
      "source": [
        "train['Family_size'] = train['SibSp'] + train['Parch'] + 1 # 본인포함 + 1\n",
        "test['Family_size'] = test['SibSp'] + test['Parch'] + 1 # 본인포함 + 1"
      ],
      "execution_count": 34,
      "outputs": []
    },
    {
      "cell_type": "code",
      "metadata": {
        "colab": {
          "base_uri": "https://localhost:8080/"
        },
        "id": "3VHnjgsZWNRG",
        "outputId": "6c0735ee-1bb5-4102-ea91-3f845020aca1"
      },
      "source": [
        "print(\"가족 수의 최대값 \\n\",train['Family_size'].max())\n",
        "print(\"\\n가족 수의 최대값\\n\",train['Family_size'].min())"
      ],
      "execution_count": 35,
      "outputs": [
        {
          "output_type": "stream",
          "text": [
            "가족 수의 최대값 \n",
            " 8\n",
            "\n",
            "가족 수의 최대값\n",
            " 1\n"
          ],
          "name": "stdout"
        }
      ]
    },
    {
      "cell_type": "code",
      "metadata": {
        "colab": {
          "base_uri": "https://localhost:8080/",
          "height": 450
        },
        "id": "4aFfnog9X0xP",
        "outputId": "fd75f7f6-f7fe-40ba-b915-c759d9fa1ed1"
      },
      "source": [
        "f, ax = plt.subplots(1,3, figsize=(15,7))\n",
        "\n",
        "# 1. Famliy_size countplot 시각화\n",
        "sns.countplot(data = train, x = 'Family_size', ax=ax[0])\n",
        "ax[0].set_title('(1) Number of Passengers Boarded')\n",
        "\n",
        "# 2. 생존 여부에 따른 Family_size 시각화\n",
        "sns.countplot(data = train, x = 'Family_size',hue = 'Survived' ,ax=ax[1])\n",
        "ax[1].set_title('(2) Survived countplot depending on Family_size')\n",
        "\n",
        "# 3. 생존여부에 따른 Family_size의 생존률 시각화\n",
        "train[['Family_size','Survived']].groupby(['Family_size']).mean().sort_values(by='Survived',ascending = False).plot.bar(ax=ax[2])\n",
        "ax[2].set_title('(3) Survived rate depending on Family_size')"
      ],
      "execution_count": 36,
      "outputs": [
        {
          "output_type": "execute_result",
          "data": {
            "text/plain": [
              "Text(0.5, 1.0, '(3) Survived rate depending on Family_size')"
            ]
          },
          "metadata": {
            "tags": []
          },
          "execution_count": 36
        },
        {
          "output_type": "display_data",
          "data": {
            "image/png": "[encoded data removed]",
            "text/plain": [
              "<Figure size 1080x504 with 3 Axes>"
            ]
          },
          "metadata": {
            "tags": [],
            "needs_background": "light"
          }
        }
      ]
    },
    {
      "cell_type": "markdown",
      "metadata": {
        "id": "gBlFcVAUgC97"
      },
      "source": [
        "* 가족수가 1~8까지 존재하며 대부분 1명이다.\n",
        "* 가족이 4명인 경우가 생존확률이 가장 높다."
      ]
    },
    {
      "cell_type": "markdown",
      "metadata": {
        "id": "RYkZki5wgcTb"
      },
      "source": [
        "### 2-7 Fare\n",
        "* 탑승요금 변수로 연속형 데이터이다."
      ]
    },
    {
      "cell_type": "code",
      "metadata": {
        "colab": {
          "base_uri": "https://localhost:8080/",
          "height": 442
        },
        "id": "u3qHRK5cgbKa",
        "outputId": "17eb7b2d-4062-471a-ac50-db5306246e21"
      },
      "source": [
        "f, ax = plt.subplots(1, 1, figsize=(8,7))\n",
        "\n",
        "g = sns.distplot(a = train['Fare'], color = 'b',\n",
        "                 label = 'Skewness : {:.2f}'.format(train['Fare'].skew()),ax=ax)\n",
        "g = g.legend(loc='Best')"
      ],
      "execution_count": 37,
      "outputs": [
        {
          "output_type": "display_data",
          "data": {
            "image/png": "[encoded data removed]",
            "text/plain": [
              "<Figure size 576x504 with 1 Axes>"
            ]
          },
          "metadata": {
            "tags": [],
            "needs_background": "light"
          }
        }
      ]
    },
    {
      "cell_type": "code",
      "metadata": {
        "id": "fzWOiy0LjxyU"
      },
      "source": [
        "# 로그변환\n",
        "\n",
        "train['Fare'] = train['Fare'].map(lambda i: np.log(i) if i > 0 else 0)\n",
        "test['Fare'] = test['Fare'].map(lambda i: np.log(i) if i > 0 else 0)"
      ],
      "execution_count": 38,
      "outputs": []
    },
    {
      "cell_type": "code",
      "metadata": {
        "id": "G7g5LypwmTkR",
        "colab": {
          "base_uri": "https://localhost:8080/",
          "height": 497
        },
        "outputId": "71f93d7a-50c1-418a-ed6a-7196753156b6"
      },
      "source": [
        "fig, ax = plt.subplots(1, 1, figsize=(8, 8))\n",
        "g = sns.distplot(train['Fare'], color='b', label='Skewness : {:.2f}'.format(train['Fare'].skew()), ax=ax)\n",
        "g = g.legend(loc='best')"
      ],
      "execution_count": 39,
      "outputs": [
        {
          "output_type": "display_data",
          "data": {
            "image/png": "[encoded data removed]",
            "text/plain": [
              "<Figure size 576x576 with 1 Axes>"
            ]
          },
          "metadata": {
            "tags": [],
            "needs_background": "light"
          }
        }
      ]
    },
    {
      "cell_type": "markdown",
      "metadata": {
        "id": "oBLCqa4BjEGr"
      },
      "source": [
        "-> 로그변환을 시도한 결과 비대칭성이 많이 사라진것을 알 수 있었다."
      ]
    },
    {
      "cell_type": "markdown",
      "metadata": {
        "id": "bYchfDeRjNU3"
      },
      "source": [
        "### 2-8 Cabin"
      ]
    },
    {
      "cell_type": "code",
      "metadata": {
        "colab": {
          "base_uri": "https://localhost:8080/",
          "height": 299
        },
        "id": "yrn8KpfnjQm1",
        "outputId": "83273b35-bf3b-4e88-c8ee-917cde0821e7"
      },
      "source": [
        "sns.countplot(data=train, x='Cabin')"
      ],
      "execution_count": 40,
      "outputs": [
        {
          "output_type": "execute_result",
          "data": {
            "text/plain": [
              "<matplotlib.axes._subplots.AxesSubplot at 0x7fa743428250>"
            ]
          },
          "metadata": {
            "tags": []
          },
          "execution_count": 40
        },
        {
          "output_type": "display_data",
          "data": {
            "image/png": "[encoded data removed]",
            "text/plain": [
              "<Figure size 432x288 with 1 Axes>"
            ]
          },
          "metadata": {
            "tags": [],
            "needs_background": "light"
          }
        }
      ]
    },
    {
      "cell_type": "markdown",
      "metadata": {
        "id": "26q-Z0pltexz"
      },
      "source": [
        "### 3. 피쳐 엔지니어링"
      ]
    },
    {
      "cell_type": "code",
      "metadata": {
        "id": "QojT7NAwtF-X"
      },
      "source": [
        "# 영어에서는 Miss, Mrr, Mrs 와 같은 title이 존재함. 탑승객 이름에 이런 타이틀이 존재하기때문에 이를 활용하여 Initial 변수 생성\n",
        "\n",
        "train['Initial'] = train['Name'].str.extract('([A-Za-z]+)\\.')\n",
        "test['Initial'] = test['Name'].str.extract('([A-Za-z]+)\\.')"
      ],
      "execution_count": 41,
      "outputs": []
    },
    {
      "cell_type": "code",
      "metadata": {
        "colab": {
          "base_uri": "https://localhost:8080/",
          "height": 103
        },
        "id": "3MFn0gWBxGEg",
        "outputId": "9c8c9acc-9982-42e3-8bb6-6fd116e97b38"
      },
      "source": [
        "# crosstab을 이용하여 추출한 Initial변수와 Sex간의 count를 살펴보자.\n",
        "\n",
        "pd.crosstab(train['Initial'], train['Sex']).T.style.background_gradient(cmap='summer_r')"
      ],
      "execution_count": 42,
      "outputs": [
        {
          "output_type": "execute_result",
          "data": {
            "text/html": [
              "<style  type=\"text/css\" >\n",
              "#T_6310a72c_ce7a_11eb_9c4d_0242ac1c0002row0_col0,#T_6310a72c_ce7a_11eb_9c4d_0242ac1c0002row0_col2,#T_6310a72c_ce7a_11eb_9c4d_0242ac1c0002row0_col3,#T_6310a72c_ce7a_11eb_9c4d_0242ac1c0002row0_col4,#T_6310a72c_ce7a_11eb_9c4d_0242ac1c0002row0_col6,#T_6310a72c_ce7a_11eb_9c4d_0242ac1c0002row0_col7,#T_6310a72c_ce7a_11eb_9c4d_0242ac1c0002row0_col11,#T_6310a72c_ce7a_11eb_9c4d_0242ac1c0002row0_col14,#T_6310a72c_ce7a_11eb_9c4d_0242ac1c0002row0_col15,#T_6310a72c_ce7a_11eb_9c4d_0242ac1c0002row1_col1,#T_6310a72c_ce7a_11eb_9c4d_0242ac1c0002row1_col5,#T_6310a72c_ce7a_11eb_9c4d_0242ac1c0002row1_col8,#T_6310a72c_ce7a_11eb_9c4d_0242ac1c0002row1_col9,#T_6310a72c_ce7a_11eb_9c4d_0242ac1c0002row1_col10,#T_6310a72c_ce7a_11eb_9c4d_0242ac1c0002row1_col12,#T_6310a72c_ce7a_11eb_9c4d_0242ac1c0002row1_col13{\n",
              "            background-color:  #ffff66;\n",
              "            color:  #000000;\n",
              "        }#T_6310a72c_ce7a_11eb_9c4d_0242ac1c0002row0_col1,#T_6310a72c_ce7a_11eb_9c4d_0242ac1c0002row0_col5,#T_6310a72c_ce7a_11eb_9c4d_0242ac1c0002row0_col8,#T_6310a72c_ce7a_11eb_9c4d_0242ac1c0002row0_col9,#T_6310a72c_ce7a_11eb_9c4d_0242ac1c0002row0_col10,#T_6310a72c_ce7a_11eb_9c4d_0242ac1c0002row0_col12,#T_6310a72c_ce7a_11eb_9c4d_0242ac1c0002row0_col13,#T_6310a72c_ce7a_11eb_9c4d_0242ac1c0002row1_col0,#T_6310a72c_ce7a_11eb_9c4d_0242ac1c0002row1_col2,#T_6310a72c_ce7a_11eb_9c4d_0242ac1c0002row1_col3,#T_6310a72c_ce7a_11eb_9c4d_0242ac1c0002row1_col4,#T_6310a72c_ce7a_11eb_9c4d_0242ac1c0002row1_col6,#T_6310a72c_ce7a_11eb_9c4d_0242ac1c0002row1_col7,#T_6310a72c_ce7a_11eb_9c4d_0242ac1c0002row1_col11,#T_6310a72c_ce7a_11eb_9c4d_0242ac1c0002row1_col14,#T_6310a72c_ce7a_11eb_9c4d_0242ac1c0002row1_col15{\n",
              "            background-color:  #008066;\n",
              "            color:  #f1f1f1;\n",
              "        }</style><table id=\"T_6310a72c_ce7a_11eb_9c4d_0242ac1c0002\" ><thead>    <tr>        <th class=\"index_name level0\" >Initial</th>        <th class=\"col_heading level0 col0\" >Col</th>        <th class=\"col_heading level0 col1\" >Countess</th>        <th class=\"col_heading level0 col2\" >Don</th>        <th class=\"col_heading level0 col3\" >Dr</th>        <th class=\"col_heading level0 col4\" >Jonkheer</th>        <th class=\"col_heading level0 col5\" >Lady</th>        <th class=\"col_heading level0 col6\" >Major</th>        <th class=\"col_heading level0 col7\" >Master</th>        <th class=\"col_heading level0 col8\" >Miss</th>        <th class=\"col_heading level0 col9\" >Mlle</th>        <th class=\"col_heading level0 col10\" >Mme</th>        <th class=\"col_heading level0 col11\" >Mr</th>        <th class=\"col_heading level0 col12\" >Mrs</th>        <th class=\"col_heading level0 col13\" >Ms</th>        <th class=\"col_heading level0 col14\" >Rev</th>        <th class=\"col_heading level0 col15\" >Sir</th>    </tr>    <tr>        <th class=\"index_name level0\" >Sex</th>        <th class=\"blank\" ></th>        <th class=\"blank\" ></th>        <th class=\"blank\" ></th>        <th class=\"blank\" ></th>        <th class=\"blank\" ></th>        <th class=\"blank\" ></th>        <th class=\"blank\" ></th>        <th class=\"blank\" ></th>        <th class=\"blank\" ></th>        <th class=\"blank\" ></th>        <th class=\"blank\" ></th>        <th class=\"blank\" ></th>        <th class=\"blank\" ></th>        <th class=\"blank\" ></th>        <th class=\"blank\" ></th>        <th class=\"blank\" ></th>    </tr></thead><tbody>\n",
              "                <tr>\n",
              "                        <th id=\"T_6310a72c_ce7a_11eb_9c4d_0242ac1c0002level0_row0\" class=\"row_heading level0 row0\" >female</th>\n",
              "                        <td id=\"T_6310a72c_ce7a_11eb_9c4d_0242ac1c0002row0_col0\" class=\"data row0 col0\" >0</td>\n",
              "                        <td id=\"T_6310a72c_ce7a_11eb_9c4d_0242ac1c0002row0_col1\" class=\"data row0 col1\" >1</td>\n",
              "                        <td id=\"T_6310a72c_ce7a_11eb_9c4d_0242ac1c0002row0_col2\" class=\"data row0 col2\" >0</td>\n",
              "                        <td id=\"T_6310a72c_ce7a_11eb_9c4d_0242ac1c0002row0_col3\" class=\"data row0 col3\" >1</td>\n",
              "                        <td id=\"T_6310a72c_ce7a_11eb_9c4d_0242ac1c0002row0_col4\" class=\"data row0 col4\" >0</td>\n",
              "                        <td id=\"T_6310a72c_ce7a_11eb_9c4d_0242ac1c0002row0_col5\" class=\"data row0 col5\" >1</td>\n",
              "                        <td id=\"T_6310a72c_ce7a_11eb_9c4d_0242ac1c0002row0_col6\" class=\"data row0 col6\" >0</td>\n",
              "                        <td id=\"T_6310a72c_ce7a_11eb_9c4d_0242ac1c0002row0_col7\" class=\"data row0 col7\" >0</td>\n",
              "                        <td id=\"T_6310a72c_ce7a_11eb_9c4d_0242ac1c0002row0_col8\" class=\"data row0 col8\" >173</td>\n",
              "                        <td id=\"T_6310a72c_ce7a_11eb_9c4d_0242ac1c0002row0_col9\" class=\"data row0 col9\" >2</td>\n",
              "                        <td id=\"T_6310a72c_ce7a_11eb_9c4d_0242ac1c0002row0_col10\" class=\"data row0 col10\" >1</td>\n",
              "                        <td id=\"T_6310a72c_ce7a_11eb_9c4d_0242ac1c0002row0_col11\" class=\"data row0 col11\" >0</td>\n",
              "                        <td id=\"T_6310a72c_ce7a_11eb_9c4d_0242ac1c0002row0_col12\" class=\"data row0 col12\" >122</td>\n",
              "                        <td id=\"T_6310a72c_ce7a_11eb_9c4d_0242ac1c0002row0_col13\" class=\"data row0 col13\" >1</td>\n",
              "                        <td id=\"T_6310a72c_ce7a_11eb_9c4d_0242ac1c0002row0_col14\" class=\"data row0 col14\" >0</td>\n",
              "                        <td id=\"T_6310a72c_ce7a_11eb_9c4d_0242ac1c0002row0_col15\" class=\"data row0 col15\" >0</td>\n",
              "            </tr>\n",
              "            <tr>\n",
              "                        <th id=\"T_6310a72c_ce7a_11eb_9c4d_0242ac1c0002level0_row1\" class=\"row_heading level0 row1\" >male</th>\n",
              "                        <td id=\"T_6310a72c_ce7a_11eb_9c4d_0242ac1c0002row1_col0\" class=\"data row1 col0\" >2</td>\n",
              "                        <td id=\"T_6310a72c_ce7a_11eb_9c4d_0242ac1c0002row1_col1\" class=\"data row1 col1\" >0</td>\n",
              "                        <td id=\"T_6310a72c_ce7a_11eb_9c4d_0242ac1c0002row1_col2\" class=\"data row1 col2\" >1</td>\n",
              "                        <td id=\"T_6310a72c_ce7a_11eb_9c4d_0242ac1c0002row1_col3\" class=\"data row1 col3\" >6</td>\n",
              "                        <td id=\"T_6310a72c_ce7a_11eb_9c4d_0242ac1c0002row1_col4\" class=\"data row1 col4\" >1</td>\n",
              "                        <td id=\"T_6310a72c_ce7a_11eb_9c4d_0242ac1c0002row1_col5\" class=\"data row1 col5\" >0</td>\n",
              "                        <td id=\"T_6310a72c_ce7a_11eb_9c4d_0242ac1c0002row1_col6\" class=\"data row1 col6\" >2</td>\n",
              "                        <td id=\"T_6310a72c_ce7a_11eb_9c4d_0242ac1c0002row1_col7\" class=\"data row1 col7\" >33</td>\n",
              "                        <td id=\"T_6310a72c_ce7a_11eb_9c4d_0242ac1c0002row1_col8\" class=\"data row1 col8\" >0</td>\n",
              "                        <td id=\"T_6310a72c_ce7a_11eb_9c4d_0242ac1c0002row1_col9\" class=\"data row1 col9\" >0</td>\n",
              "                        <td id=\"T_6310a72c_ce7a_11eb_9c4d_0242ac1c0002row1_col10\" class=\"data row1 col10\" >0</td>\n",
              "                        <td id=\"T_6310a72c_ce7a_11eb_9c4d_0242ac1c0002row1_col11\" class=\"data row1 col11\" >510</td>\n",
              "                        <td id=\"T_6310a72c_ce7a_11eb_9c4d_0242ac1c0002row1_col12\" class=\"data row1 col12\" >0</td>\n",
              "                        <td id=\"T_6310a72c_ce7a_11eb_9c4d_0242ac1c0002row1_col13\" class=\"data row1 col13\" >0</td>\n",
              "                        <td id=\"T_6310a72c_ce7a_11eb_9c4d_0242ac1c0002row1_col14\" class=\"data row1 col14\" >6</td>\n",
              "                        <td id=\"T_6310a72c_ce7a_11eb_9c4d_0242ac1c0002row1_col15\" class=\"data row1 col15\" >1</td>\n",
              "            </tr>\n",
              "    </tbody></table>"
            ],
            "text/plain": [
              "<pandas.io.formats.style.Styler at 0x7fa7434d66d0>"
            ]
          },
          "metadata": {
            "tags": []
          },
          "execution_count": 42
        }
      ]
    },
    {
      "cell_type": "code",
      "metadata": {
        "id": "KSpG-NeVx-Rs"
      },
      "source": [
        "train['Initial'].replace(['Mlle','Mme','Ms','Dr','Major','Lady','Countess','Jonkheer','Col','Rev','Capt','Sir','Don', 'Dona'],\n",
        "                        ['Miss','Miss','Miss','Mr','Mr','Mrs','Mrs','Other','Other','Other','Mr','Mr','Mr', 'Mr'],inplace=True)\n",
        "\n",
        "test['Initial'].replace(['Mlle','Mme','Ms','Dr','Major','Lady','Countess','Jonkheer','Col','Rev','Capt','Sir','Don', 'Dona'],\n",
        "                        ['Miss','Miss','Miss','Mr','Mr','Mrs','Mrs','Other','Other','Other','Mr','Mr','Mr', 'Mr'],inplace=True)"
      ],
      "execution_count": 43,
      "outputs": []
    },
    {
      "cell_type": "code",
      "metadata": {
        "colab": {
          "base_uri": "https://localhost:8080/",
          "height": 235
        },
        "id": "Y4wxF3FMyBoE",
        "outputId": "e6fc68d3-daa1-4d5d-c096-eb47aec01f44"
      },
      "source": [
        "train.groupby('Initial').mean()"
      ],
      "execution_count": 44,
      "outputs": [
        {
          "output_type": "execute_result",
          "data": {
            "text/html": [
              "<div>\n",
              "<style scoped>\n",
              "    .dataframe tbody tr th:only-of-type {\n",
              "        vertical-align: middle;\n",
              "    }\n",
              "\n",
              "    .dataframe tbody tr th {\n",
              "        vertical-align: top;\n",
              "    }\n",
              "\n",
              "    .dataframe thead th {\n",
              "        text-align: right;\n",
              "    }\n",
              "</style>\n",
              "<table border=\"1\" class=\"dataframe\">\n",
              "  <thead>\n",
              "    <tr style=\"text-align: right;\">\n",
              "      <th></th>\n",
              "      <th>PassengerId</th>\n",
              "      <th>Survived</th>\n",
              "      <th>Pclass</th>\n",
              "      <th>Age</th>\n",
              "      <th>SibSp</th>\n",
              "      <th>Parch</th>\n",
              "      <th>Fare</th>\n",
              "      <th>Family_size</th>\n",
              "    </tr>\n",
              "    <tr>\n",
              "      <th>Initial</th>\n",
              "      <th></th>\n",
              "      <th></th>\n",
              "      <th></th>\n",
              "      <th></th>\n",
              "      <th></th>\n",
              "      <th></th>\n",
              "      <th></th>\n",
              "      <th></th>\n",
              "    </tr>\n",
              "  </thead>\n",
              "  <tbody>\n",
              "    <tr>\n",
              "      <th>Master</th>\n",
              "      <td>446.393939</td>\n",
              "      <td>0.666667</td>\n",
              "      <td>2.606061</td>\n",
              "      <td>7.419617</td>\n",
              "      <td>1.909091</td>\n",
              "      <td>1.363636</td>\n",
              "      <td>3.234414</td>\n",
              "      <td>4.272727</td>\n",
              "    </tr>\n",
              "    <tr>\n",
              "      <th>Miss</th>\n",
              "      <td>413.514124</td>\n",
              "      <td>0.723164</td>\n",
              "      <td>2.293785</td>\n",
              "      <td>23.548423</td>\n",
              "      <td>0.519774</td>\n",
              "      <td>0.474576</td>\n",
              "      <td>3.056304</td>\n",
              "      <td>1.994350</td>\n",
              "    </tr>\n",
              "    <tr>\n",
              "      <th>Mr</th>\n",
              "      <td>455.520154</td>\n",
              "      <td>0.163148</td>\n",
              "      <td>2.391555</td>\n",
              "      <td>31.850858</td>\n",
              "      <td>0.239923</td>\n",
              "      <td>0.122841</td>\n",
              "      <td>2.620753</td>\n",
              "      <td>1.362764</td>\n",
              "    </tr>\n",
              "    <tr>\n",
              "      <th>Mrs</th>\n",
              "      <td>451.475806</td>\n",
              "      <td>0.790323</td>\n",
              "      <td>2.008065</td>\n",
              "      <td>34.571653</td>\n",
              "      <td>0.709677</td>\n",
              "      <td>0.822581</td>\n",
              "      <td>3.415485</td>\n",
              "      <td>2.532258</td>\n",
              "    </tr>\n",
              "    <tr>\n",
              "      <th>Other</th>\n",
              "      <td>564.444444</td>\n",
              "      <td>0.111111</td>\n",
              "      <td>1.666667</td>\n",
              "      <td>45.888889</td>\n",
              "      <td>0.111111</td>\n",
              "      <td>0.111111</td>\n",
              "      <td>2.641605</td>\n",
              "      <td>1.222222</td>\n",
              "    </tr>\n",
              "  </tbody>\n",
              "</table>\n",
              "</div>"
            ],
            "text/plain": [
              "         PassengerId  Survived    Pclass  ...     Parch      Fare  Family_size\n",
              "Initial                                   ...                                 \n",
              "Master    446.393939  0.666667  2.606061  ...  1.363636  3.234414     4.272727\n",
              "Miss      413.514124  0.723164  2.293785  ...  0.474576  3.056304     1.994350\n",
              "Mr        455.520154  0.163148  2.391555  ...  0.122841  2.620753     1.362764\n",
              "Mrs       451.475806  0.790323  2.008065  ...  0.822581  3.415485     2.532258\n",
              "Other     564.444444  0.111111  1.666667  ...  0.111111  2.641605     1.222222\n",
              "\n",
              "[5 rows x 8 columns]"
            ]
          },
          "metadata": {
            "tags": []
          },
          "execution_count": 44
        }
      ]
    },
    {
      "cell_type": "code",
      "metadata": {
        "colab": {
          "base_uri": "https://localhost:8080/",
          "height": 318
        },
        "id": "zZhVSMuwySoG",
        "outputId": "f55abf0c-e2c2-466b-ea62-3cf5b40b70a2"
      },
      "source": [
        "train.groupby('Initial')['Survived'].mean().plot.bar()"
      ],
      "execution_count": 45,
      "outputs": [
        {
          "output_type": "execute_result",
          "data": {
            "text/plain": [
              "<matplotlib.axes._subplots.AxesSubplot at 0x7fa742d28b50>"
            ]
          },
          "metadata": {
            "tags": []
          },
          "execution_count": 45
        },
        {
          "output_type": "display_data",
          "data": {
            "image/png": "[encoded data removed]",
            "text/plain": [
              "<Figure size 432x288 with 1 Axes>"
            ]
          },
          "metadata": {
            "tags": [],
            "needs_background": "light"
          }
        }
      ]
    },
    {
      "cell_type": "code",
      "metadata": {
        "colab": {
          "base_uri": "https://localhost:8080/",
          "height": 279
        },
        "id": "G8vqE_Vo1Fu-",
        "outputId": "4a992bc8-db2b-46e5-8a49-6c0e999e2bf7"
      },
      "source": [
        "def get_category(age):\n",
        "  if age <= 5: cat = \"Baby\"\n",
        "  elif age <= 12: cat = \"Child\"\n",
        "  elif age <= 18: cat = \"Teenager\"\n",
        "  elif age <= 25: cat = \"Student\"\n",
        "  elif age <= 35: cat = \"Young Adult\"\n",
        "  elif age <= 60: cat = \"Adult\"\n",
        "  else : cat = \"Elderly\"\n",
        "\n",
        "  return cat\n",
        "\n",
        "train['Age_cat'] = train['Age'].apply(lambda x: get_category(x))\n",
        "test['Age_cat'] = test['Age'].apply(lambda x: get_category(x))\n",
        "order = ['Baby','Child','Teenager','Student','Young Adult','Adult','Elderly']\n",
        "\n",
        "plt.figure(figsize=(15,4))\n",
        "plt.title('Barplot of Age_cat')\n",
        "g = sns.barplot(data=train, x='Age_cat', y='Survived',hue='Sex', ci=None, order=order)"
      ],
      "execution_count": 67,
      "outputs": [
        {
          "output_type": "display_data",
          "data": {
            "image/png": "[encoded data removed]",
            "text/plain": [
              "<Figure size 1080x288 with 1 Axes>"
            ]
          },
          "metadata": {
            "tags": [],
            "needs_background": "light"
          }
        }
      ]
    },
    {
      "cell_type": "markdown",
      "metadata": {
        "id": "P6nBaTNu6Z2d"
      },
      "source": [
        "## 3.2 Initital, Embarked and Sex 변수 수치변환"
      ]
    },
    {
      "cell_type": "code",
      "metadata": {
        "id": "bMiYs9oK6P8S"
      },
      "source": [
        "# Initial 변수 변환\n",
        "train['Initial'] = train['Initial'].map({'Master': 0, 'Miss': 1, 'Mr': 2, 'Mrs': 3, 'Other': 4})\n",
        "test['Initial'] = test['Initial'].map({'Master': 0, 'Miss': 1, 'Mr': 2, 'Mrs': 3, 'Other': 4})"
      ],
      "execution_count": 50,
      "outputs": []
    },
    {
      "cell_type": "code",
      "metadata": {
        "id": "RH0JqQyH6YoZ"
      },
      "source": [
        "# Embarked 변수 변환\n",
        "train['Embarked'] = train['Embarked'].map({'C': 0, 'Q': 1, 'S': 2})\n",
        "test['Embarked'] = test['Embarked'].map({'C': 0, 'Q': 1, 'S': 2})"
      ],
      "execution_count": 51,
      "outputs": []
    },
    {
      "cell_type": "code",
      "metadata": {
        "id": "2Tnk7dDR7OYE"
      },
      "source": [
        "# Sex 변수 변환\n",
        "train['Sex'] = train['Sex'].map({'female' : 0, 'male' : 1})\n",
        "test['Sex'] = test['Sex'].map({'female' : 0, 'male' : 1})"
      ],
      "execution_count": 53,
      "outputs": []
    },
    {
      "cell_type": "code",
      "metadata": {
        "id": "DCvh9Nm98zaD"
      },
      "source": [
        "# Age_cat 변수 변환\n",
        "train['Age_cat'] = train['Age_cat'].map({'Baby' : 0, 'Child' : 1, 'Teenager': 2, 'Student' : 3,\n",
        "                                         'Young Adult' : 4,'Adult' : 5 ,'Elderly' : 6})\n",
        "test['Age_cat'] = test['Age_cat'].map({'Baby' : 0, 'Child' : 1, 'Teenager': 2, 'Student' : 3,\n",
        "                                         'Young Adult' : 4, 'Adult' : 5,'Elderly' : 6})"
      ],
      "execution_count": 68,
      "outputs": []
    },
    {
      "cell_type": "code",
      "metadata": {
        "colab": {
          "base_uri": "https://localhost:8080/"
        },
        "id": "KTDW3_2x6tPI",
        "outputId": "38377c8b-9991-472d-b36c-cfa45ac9546b"
      },
      "source": [
        "# 잘 변환되었는지 확인\n",
        "print(train['Initial'].isna().any() , train['Initial'].dtypes)\n",
        "print(test['Initial'].isna().any() , test['Initial'].dtypes)\n",
        "\n",
        "print(train['Embarked'].isna().any() , train['Embarked'].dtypes)\n",
        "print(test['Embarked'].isna().any() , test['Embarked'].dtypes)\n",
        "\n",
        "print(train['Sex'].isna().any() , train['Sex'].dtypes)\n",
        "print(test['Sex'].isna().any() , test['Sex'].dtypes)\n",
        "\n",
        "print(train['Age_cat'].isna().any() , train['Age_cat'].dtypes)\n",
        "print(test['Age_cat'].isna().any() , test['Age_cat'].dtypes)"
      ],
      "execution_count": 70,
      "outputs": [
        {
          "output_type": "stream",
          "text": [
            "False int64\n",
            "False int64\n",
            "False int64\n",
            "False int64\n",
            "False int64\n",
            "False int64\n",
            "False int64\n",
            "False int64\n"
          ],
          "name": "stdout"
        }
      ]
    },
    {
      "cell_type": "markdown",
      "metadata": {
        "id": "ztDjUe_27zmP"
      },
      "source": [
        "## 3.3 feature 간 상관관계 확인"
      ]
    },
    {
      "cell_type": "code",
      "metadata": {
        "colab": {
          "base_uri": "https://localhost:8080/"
        },
        "id": "hVpTVSRi8CjS",
        "outputId": "f74dd789-29e2-4beb-cd11-0ce29709065c"
      },
      "source": [
        "train.columns"
      ],
      "execution_count": 55,
      "outputs": [
        {
          "output_type": "execute_result",
          "data": {
            "text/plain": [
              "Index(['PassengerId', 'Survived', 'Pclass', 'Name', 'Sex', 'Age', 'SibSp',\n",
              "       'Parch', 'Ticket', 'Fare', 'Cabin', 'Embarked', 'Family_size',\n",
              "       'Initial', 'Age_cat'],\n",
              "      dtype='object')"
            ]
          },
          "metadata": {
            "tags": []
          },
          "execution_count": 55
        }
      ]
    },
    {
      "cell_type": "code",
      "metadata": {
        "colab": {
          "base_uri": "https://localhost:8080/",
          "height": 705
        },
        "id": "UpQmAtCU662M",
        "outputId": "c541e08a-f3fa-403a-dafd-a8cd1153a405"
      },
      "source": [
        "heatmap_data = train[['Survived', 'Pclass', 'Sex', 'Age','Fare','Embarked', 'Family_size',\n",
        "                      'Initial', 'Age_cat']]\n",
        "\n",
        "colormap = plt.cm.RdBu\n",
        "\n",
        "\n",
        "plt.figure(figsize=(12,12))\n",
        "plt.title('Pearson Correlation of Features', y = 1.05, size=15)\n",
        "sns.heatmap(heatmap_data.astype(float).corr(), linewidths=0.1, vmax=1.0,\n",
        "            square = True, cmap = colormap, linecolor = 'white', annot = True,\n",
        "            annot_kws = {\"size\" : 16})"
      ],
      "execution_count": 80,
      "outputs": [
        {
          "output_type": "execute_result",
          "data": {
            "text/plain": [
              "<matplotlib.axes._subplots.AxesSubplot at 0x7fa73b4a63d0>"
            ]
          },
          "metadata": {
            "tags": []
          },
          "execution_count": 80
        },
        {
          "output_type": "display_data",
          "data": {
            "image/png": "[encoded data removed]",
            "text/plain": [
              "<Figure size 864x864 with 2 Axes>"
            ]
          },
          "metadata": {
            "tags": [],
            "needs_background": "light"
          }
        }
      ]
    },
    {
      "cell_type": "markdown",
      "metadata": {
        "id": "kUIoSnjB_pyo"
      },
      "source": [
        "-> 앞에서 살펴본 것과 같이 Sex와 Pclass가 Survived에 상관관계가 있음을 확인할 수 있다.\n",
        "Fare 변수의 상관계수는 0.35로 약한 양의 상관관계를 보인다."
      ]
    }
  ]
}